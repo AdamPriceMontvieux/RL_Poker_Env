{
 "cells": [
  {
   "cell_type": "markdown",
   "metadata": {},
   "source": [
    "*Training Poker Using RLLib*"
   ]
  },
  {
   "cell_type": "code",
   "execution_count": 1,
   "metadata": {},
   "outputs": [
    {
     "name": "stderr",
     "output_type": "stream",
     "text": [
      "/Users/adamprice/Applications/anaconda3/envs/stocktake/lib/python3.8/site-packages/keras_preprocessing/image/utils.py:23: DeprecationWarning: NEAREST is deprecated and will be removed in Pillow 10 (2023-07-01). Use Resampling.NEAREST or Dither.NONE instead.\n",
      "  'nearest': pil_image.NEAREST,\n",
      "/Users/adamprice/Applications/anaconda3/envs/stocktake/lib/python3.8/site-packages/keras_preprocessing/image/utils.py:24: DeprecationWarning: BILINEAR is deprecated and will be removed in Pillow 10 (2023-07-01). Use Resampling.BILINEAR instead.\n",
      "  'bilinear': pil_image.BILINEAR,\n",
      "/Users/adamprice/Applications/anaconda3/envs/stocktake/lib/python3.8/site-packages/keras_preprocessing/image/utils.py:25: DeprecationWarning: BICUBIC is deprecated and will be removed in Pillow 10 (2023-07-01). Use Resampling.BICUBIC instead.\n",
      "  'bicubic': pil_image.BICUBIC,\n",
      "/Users/adamprice/Applications/anaconda3/envs/stocktake/lib/python3.8/site-packages/keras_preprocessing/image/utils.py:28: DeprecationWarning: HAMMING is deprecated and will be removed in Pillow 10 (2023-07-01). Use Resampling.HAMMING instead.\n",
      "  if hasattr(pil_image, 'HAMMING'):\n",
      "/Users/adamprice/Applications/anaconda3/envs/stocktake/lib/python3.8/site-packages/keras_preprocessing/image/utils.py:30: DeprecationWarning: BOX is deprecated and will be removed in Pillow 10 (2023-07-01). Use Resampling.BOX instead.\n",
      "  if hasattr(pil_image, 'BOX'):\n",
      "/Users/adamprice/Applications/anaconda3/envs/stocktake/lib/python3.8/site-packages/keras_preprocessing/image/utils.py:33: DeprecationWarning: LANCZOS is deprecated and will be removed in Pillow 10 (2023-07-01). Use Resampling.LANCZOS instead.\n",
      "  if hasattr(pil_image, 'LANCZOS'):\n",
      "/Users/adamprice/Desktop/Poker/poker_env.py:10: DeprecationWarning: Using or importing the ABCs from 'collections' instead of from 'collections.abc' is deprecated since Python 3.3, and in 3.10 it will stop working\n",
      "  from collections import Iterable\n"
     ]
    }
   ],
   "source": [
    "import sys\n",
    "from poker_env import PokerEnv\n",
    "from agents.random_policy import RandomActions\n",
    "from agents.heuristic_policy import HeuristicPolicy\n",
    "from ray.rllib.algorithms.ppo import PPOConfig\n",
    "from ray.rllib.algorithms.a3c import A3C\n",
    "from ray.rllib.algorithms.sac import SAC\n",
    "from ray.rllib.algorithms.dqn import DQN\n",
    "from gym import spaces\n",
    "import mpu\n",
    "import numpy as np\n",
    "import ray\n",
    "from ray.rllib.models import MODEL_DEFAULTS\n",
    "from ray.rllib.policy.policy import PolicySpec\n",
    "from ray.tune.registry import register_env"
   ]
  },
  {
   "cell_type": "markdown",
   "metadata": {},
   "source": [
    "In Rllib, a policy function needs to be passed to map agent IDs to the policy to use. We also create and register the learning environment."
   ]
  },
  {
   "cell_type": "code",
   "execution_count": null,
   "metadata": {},
   "outputs": [],
   "source": []
  },
  {
   "cell_type": "code",
   "execution_count": 2,
   "metadata": {},
   "outputs": [],
   "source": [
    "def select_policy(agent_id, episode, **kwargs):\n",
    "    if agent_id == 0:\n",
    "        return \"a3c\"\n",
    "    elif agent_id == 1:\n",
    "        return \"sac\"\n",
    "    elif agent_id == 2:\n",
    "        return \"dqn\"\n",
    "    elif agent_id == 3:\n",
    "        return \"ppo\"\n",
    "    return \"learned4\"\n",
    "\n",
    "def env_creator(config):\n",
    "    env = PokerEnv(select_policy, config)\n",
    "    return env\n",
    "\n",
    "register_env(\"poker\", lambda config: env_creator(config))"
   ]
  },
  {
   "cell_type": "markdown",
   "metadata": {},
   "source": [
    "The config describes all aspects of the training. A full list of the parameters is found here: https://github.com/ray-project/ray/blob/master/rllib/algorithms/algorithm_config.py \n",
    "\n",
    "In this example, we have used a default config that runs the PPO algorithm. Other heuristic agents have been defined that will play the game with the single learning agent. "
   ]
  },
  {
   "cell_type": "code",
   "execution_count": null,
   "metadata": {},
   "outputs": [],
   "source": []
  },
  {
   "cell_type": "code",
   "execution_count": 3,
   "metadata": {},
   "outputs": [
    {
     "name": "stderr",
     "output_type": "stream",
     "text": [
      "2022-11-10 15:04:18,048\tWARNING ppo.py:350 -- `train_batch_size` (4000) cannot be achieved with your other settings (num_workers=8 num_envs_per_worker=1 rollout_fragment_length=200)! Auto-adjusting `rollout_fragment_length` to 500.\n",
      "/Users/adamprice/Applications/anaconda3/envs/stocktake/lib/python3.8/site-packages/ray/_private/ray_option_utils.py:266: DeprecationWarning: Setting 'object_store_memory' for actors is deprecated since it doesn't actually reserve the required object store memory. Use object spilling that's enabled by default (https://docs.ray.io/en/releases-2.0.1/ray-core/objects/object-spilling.html) instead to bypass the object store memory size limitation.\n",
      "  warnings.warn(\n",
      "2022-11-10 15:04:20,603\tINFO worker.py:1518 -- Started a local Ray instance.\n",
      "\u001b[2m\u001b[36m(pid=66429)\u001b[0m /Users/adamprice/Applications/anaconda3/envs/stocktake/lib/python3.8/site-packages/tensorflow/python/autograph/impl/api.py:22: DeprecationWarning: the imp module is deprecated in favour of importlib; see the module's documentation for alternative uses\n",
      "\u001b[2m\u001b[36m(pid=66429)\u001b[0m   import imp\n",
      "\u001b[2m\u001b[36m(pid=66427)\u001b[0m /Users/adamprice/Applications/anaconda3/envs/stocktake/lib/python3.8/site-packages/tensorflow/python/autograph/impl/api.py:22: DeprecationWarning: the imp module is deprecated in favour of importlib; see the module's documentation for alternative uses\n",
      "\u001b[2m\u001b[36m(pid=66427)\u001b[0m   import imp\n",
      "\u001b[2m\u001b[36m(pid=66433)\u001b[0m /Users/adamprice/Applications/anaconda3/envs/stocktake/lib/python3.8/site-packages/tensorflow/python/autograph/impl/api.py:22: DeprecationWarning: the imp module is deprecated in favour of importlib; see the module's documentation for alternative uses\n",
      "\u001b[2m\u001b[36m(pid=66433)\u001b[0m   import imp\n",
      "\u001b[2m\u001b[36m(pid=66426)\u001b[0m /Users/adamprice/Applications/anaconda3/envs/stocktake/lib/python3.8/site-packages/tensorflow/python/autograph/impl/api.py:22: DeprecationWarning: the imp module is deprecated in favour of importlib; see the module's documentation for alternative uses\n",
      "\u001b[2m\u001b[36m(pid=66426)\u001b[0m   import imp\n",
      "\u001b[2m\u001b[36m(pid=66428)\u001b[0m /Users/adamprice/Applications/anaconda3/envs/stocktake/lib/python3.8/site-packages/tensorflow/python/autograph/impl/api.py:22: DeprecationWarning: the imp module is deprecated in favour of importlib; see the module's documentation for alternative uses\n",
      "\u001b[2m\u001b[36m(pid=66428)\u001b[0m   import imp\n",
      "\u001b[2m\u001b[36m(pid=66432)\u001b[0m /Users/adamprice/Applications/anaconda3/envs/stocktake/lib/python3.8/site-packages/tensorflow/python/autograph/impl/api.py:22: DeprecationWarning: the imp module is deprecated in favour of importlib; see the module's documentation for alternative uses\n",
      "\u001b[2m\u001b[36m(pid=66432)\u001b[0m   import imp\n",
      "\u001b[2m\u001b[36m(pid=66430)\u001b[0m /Users/adamprice/Applications/anaconda3/envs/stocktake/lib/python3.8/site-packages/tensorflow/python/autograph/impl/api.py:22: DeprecationWarning: the imp module is deprecated in favour of importlib; see the module's documentation for alternative uses\n",
      "\u001b[2m\u001b[36m(pid=66430)\u001b[0m   import imp\n",
      "\u001b[2m\u001b[36m(pid=66431)\u001b[0m /Users/adamprice/Applications/anaconda3/envs/stocktake/lib/python3.8/site-packages/tensorflow/python/autograph/impl/api.py:22: DeprecationWarning: the imp module is deprecated in favour of importlib; see the module's documentation for alternative uses\n",
      "\u001b[2m\u001b[36m(pid=66431)\u001b[0m   import imp\n",
      "\u001b[2m\u001b[36m(pid=66429)\u001b[0m /Users/adamprice/Applications/anaconda3/envs/stocktake/lib/python3.8/site-packages/keras_preprocessing/image/utils.py:23: DeprecationWarning: NEAREST is deprecated and will be removed in Pillow 10 (2023-07-01). Use Resampling.NEAREST or Dither.NONE instead.\n",
      "\u001b[2m\u001b[36m(pid=66429)\u001b[0m   'nearest': pil_image.NEAREST,\n",
      "\u001b[2m\u001b[36m(pid=66429)\u001b[0m /Users/adamprice/Applications/anaconda3/envs/stocktake/lib/python3.8/site-packages/keras_preprocessing/image/utils.py:24: DeprecationWarning: BILINEAR is deprecated and will be removed in Pillow 10 (2023-07-01). Use Resampling.BILINEAR instead.\n",
      "\u001b[2m\u001b[36m(pid=66429)\u001b[0m   'bilinear': pil_image.BILINEAR,\n",
      "\u001b[2m\u001b[36m(pid=66429)\u001b[0m /Users/adamprice/Applications/anaconda3/envs/stocktake/lib/python3.8/site-packages/keras_preprocessing/image/utils.py:25: DeprecationWarning: BICUBIC is deprecated and will be removed in Pillow 10 (2023-07-01). Use Resampling.BICUBIC instead.\n",
      "\u001b[2m\u001b[36m(pid=66429)\u001b[0m   'bicubic': pil_image.BICUBIC,\n",
      "\u001b[2m\u001b[36m(pid=66429)\u001b[0m /Users/adamprice/Applications/anaconda3/envs/stocktake/lib/python3.8/site-packages/keras_preprocessing/image/utils.py:28: DeprecationWarning: HAMMING is deprecated and will be removed in Pillow 10 (2023-07-01). Use Resampling.HAMMING instead.\n",
      "\u001b[2m\u001b[36m(pid=66429)\u001b[0m   if hasattr(pil_image, 'HAMMING'):\n",
      "\u001b[2m\u001b[36m(pid=66429)\u001b[0m /Users/adamprice/Applications/anaconda3/envs/stocktake/lib/python3.8/site-packages/keras_preprocessing/image/utils.py:30: DeprecationWarning: BOX is deprecated and will be removed in Pillow 10 (2023-07-01). Use Resampling.BOX instead.\n",
      "\u001b[2m\u001b[36m(pid=66429)\u001b[0m   if hasattr(pil_image, 'BOX'):\n",
      "\u001b[2m\u001b[36m(pid=66429)\u001b[0m /Users/adamprice/Applications/anaconda3/envs/stocktake/lib/python3.8/site-packages/keras_preprocessing/image/utils.py:33: DeprecationWarning: LANCZOS is deprecated and will be removed in Pillow 10 (2023-07-01). Use Resampling.LANCZOS instead.\n",
      "\u001b[2m\u001b[36m(pid=66429)\u001b[0m   if hasattr(pil_image, 'LANCZOS'):\n",
      "\u001b[2m\u001b[36m(pid=66427)\u001b[0m /Users/adamprice/Applications/anaconda3/envs/stocktake/lib/python3.8/site-packages/keras_preprocessing/image/utils.py:23: DeprecationWarning: NEAREST is deprecated and will be removed in Pillow 10 (2023-07-01). Use Resampling.NEAREST or Dither.NONE instead.\n",
      "\u001b[2m\u001b[36m(pid=66427)\u001b[0m   'nearest': pil_image.NEAREST,\n",
      "\u001b[2m\u001b[36m(pid=66427)\u001b[0m /Users/adamprice/Applications/anaconda3/envs/stocktake/lib/python3.8/site-packages/keras_preprocessing/image/utils.py:24: DeprecationWarning: BILINEAR is deprecated and will be removed in Pillow 10 (2023-07-01). Use Resampling.BILINEAR instead.\n",
      "\u001b[2m\u001b[36m(pid=66427)\u001b[0m   'bilinear': pil_image.BILINEAR,\n",
      "\u001b[2m\u001b[36m(pid=66427)\u001b[0m /Users/adamprice/Applications/anaconda3/envs/stocktake/lib/python3.8/site-packages/keras_preprocessing/image/utils.py:25: DeprecationWarning: BICUBIC is deprecated and will be removed in Pillow 10 (2023-07-01). Use Resampling.BICUBIC instead.\n",
      "\u001b[2m\u001b[36m(pid=66427)\u001b[0m   'bicubic': pil_image.BICUBIC,\n",
      "\u001b[2m\u001b[36m(pid=66427)\u001b[0m /Users/adamprice/Applications/anaconda3/envs/stocktake/lib/python3.8/site-packages/keras_preprocessing/image/utils.py:28: DeprecationWarning: HAMMING is deprecated and will be removed in Pillow 10 (2023-07-01). Use Resampling.HAMMING instead.\n",
      "\u001b[2m\u001b[36m(pid=66427)\u001b[0m   if hasattr(pil_image, 'HAMMING'):\n",
      "\u001b[2m\u001b[36m(pid=66427)\u001b[0m /Users/adamprice/Applications/anaconda3/envs/stocktake/lib/python3.8/site-packages/keras_preprocessing/image/utils.py:30: DeprecationWarning: BOX is deprecated and will be removed in Pillow 10 (2023-07-01). Use Resampling.BOX instead.\n",
      "\u001b[2m\u001b[36m(pid=66427)\u001b[0m   if hasattr(pil_image, 'BOX'):\n",
      "\u001b[2m\u001b[36m(pid=66427)\u001b[0m /Users/adamprice/Applications/anaconda3/envs/stocktake/lib/python3.8/site-packages/keras_preprocessing/image/utils.py:33: DeprecationWarning: LANCZOS is deprecated and will be removed in Pillow 10 (2023-07-01). Use Resampling.LANCZOS instead.\n",
      "\u001b[2m\u001b[36m(pid=66427)\u001b[0m   if hasattr(pil_image, 'LANCZOS'):\n",
      "\u001b[2m\u001b[36m(pid=66433)\u001b[0m /Users/adamprice/Applications/anaconda3/envs/stocktake/lib/python3.8/site-packages/keras_preprocessing/image/utils.py:23: DeprecationWarning: NEAREST is deprecated and will be removed in Pillow 10 (2023-07-01). Use Resampling.NEAREST or Dither.NONE instead.\n",
      "\u001b[2m\u001b[36m(pid=66433)\u001b[0m   'nearest': pil_image.NEAREST,\n",
      "\u001b[2m\u001b[36m(pid=66433)\u001b[0m /Users/adamprice/Applications/anaconda3/envs/stocktake/lib/python3.8/site-packages/keras_preprocessing/image/utils.py:24: DeprecationWarning: BILINEAR is deprecated and will be removed in Pillow 10 (2023-07-01). Use Resampling.BILINEAR instead.\n",
      "\u001b[2m\u001b[36m(pid=66433)\u001b[0m   'bilinear': pil_image.BILINEAR,\n",
      "\u001b[2m\u001b[36m(pid=66433)\u001b[0m /Users/adamprice/Applications/anaconda3/envs/stocktake/lib/python3.8/site-packages/keras_preprocessing/image/utils.py:25: DeprecationWarning: BICUBIC is deprecated and will be removed in Pillow 10 (2023-07-01). Use Resampling.BICUBIC instead.\n",
      "\u001b[2m\u001b[36m(pid=66433)\u001b[0m   'bicubic': pil_image.BICUBIC,\n",
      "\u001b[2m\u001b[36m(pid=66433)\u001b[0m /Users/adamprice/Applications/anaconda3/envs/stocktake/lib/python3.8/site-packages/keras_preprocessing/image/utils.py:28: DeprecationWarning: HAMMING is deprecated and will be removed in Pillow 10 (2023-07-01). Use Resampling.HAMMING instead.\n",
      "\u001b[2m\u001b[36m(pid=66433)\u001b[0m   if hasattr(pil_image, 'HAMMING'):\n",
      "\u001b[2m\u001b[36m(pid=66433)\u001b[0m /Users/adamprice/Applications/anaconda3/envs/stocktake/lib/python3.8/site-packages/keras_preprocessing/image/utils.py:30: DeprecationWarning: BOX is deprecated and will be removed in Pillow 10 (2023-07-01). Use Resampling.BOX instead.\n",
      "\u001b[2m\u001b[36m(pid=66433)\u001b[0m   if hasattr(pil_image, 'BOX'):\n",
      "\u001b[2m\u001b[36m(pid=66433)\u001b[0m /Users/adamprice/Applications/anaconda3/envs/stocktake/lib/python3.8/site-packages/keras_preprocessing/image/utils.py:33: DeprecationWarning: LANCZOS is deprecated and will be removed in Pillow 10 (2023-07-01). Use Resampling.LANCZOS instead.\n",
      "\u001b[2m\u001b[36m(pid=66433)\u001b[0m   if hasattr(pil_image, 'LANCZOS'):\n",
      "\u001b[2m\u001b[36m(pid=66426)\u001b[0m /Users/adamprice/Applications/anaconda3/envs/stocktake/lib/python3.8/site-packages/keras_preprocessing/image/utils.py:23: DeprecationWarning: NEAREST is deprecated and will be removed in Pillow 10 (2023-07-01). Use Resampling.NEAREST or Dither.NONE instead.\n",
      "\u001b[2m\u001b[36m(pid=66426)\u001b[0m   'nearest': pil_image.NEAREST,\n",
      "\u001b[2m\u001b[36m(pid=66426)\u001b[0m /Users/adamprice/Applications/anaconda3/envs/stocktake/lib/python3.8/site-packages/keras_preprocessing/image/utils.py:24: DeprecationWarning: BILINEAR is deprecated and will be removed in Pillow 10 (2023-07-01). Use Resampling.BILINEAR instead.\n",
      "\u001b[2m\u001b[36m(pid=66426)\u001b[0m   'bilinear': pil_image.BILINEAR,\n",
      "\u001b[2m\u001b[36m(pid=66426)\u001b[0m /Users/adamprice/Applications/anaconda3/envs/stocktake/lib/python3.8/site-packages/keras_preprocessing/image/utils.py:25: DeprecationWarning: BICUBIC is deprecated and will be removed in Pillow 10 (2023-07-01). Use Resampling.BICUBIC instead.\n",
      "\u001b[2m\u001b[36m(pid=66426)\u001b[0m   'bicubic': pil_image.BICUBIC,\n",
      "\u001b[2m\u001b[36m(pid=66426)\u001b[0m /Users/adamprice/Applications/anaconda3/envs/stocktake/lib/python3.8/site-packages/keras_preprocessing/image/utils.py:28: DeprecationWarning: HAMMING is deprecated and will be removed in Pillow 10 (2023-07-01). Use Resampling.HAMMING instead.\n",
      "\u001b[2m\u001b[36m(pid=66426)\u001b[0m   if hasattr(pil_image, 'HAMMING'):\n",
      "\u001b[2m\u001b[36m(pid=66426)\u001b[0m /Users/adamprice/Applications/anaconda3/envs/stocktake/lib/python3.8/site-packages/keras_preprocessing/image/utils.py:30: DeprecationWarning: BOX is deprecated and will be removed in Pillow 10 (2023-07-01). Use Resampling.BOX instead.\n",
      "\u001b[2m\u001b[36m(pid=66426)\u001b[0m   if hasattr(pil_image, 'BOX'):\n",
      "\u001b[2m\u001b[36m(pid=66426)\u001b[0m /Users/adamprice/Applications/anaconda3/envs/stocktake/lib/python3.8/site-packages/keras_preprocessing/image/utils.py:33: DeprecationWarning: LANCZOS is deprecated and will be removed in Pillow 10 (2023-07-01). Use Resampling.LANCZOS instead.\n",
      "\u001b[2m\u001b[36m(pid=66426)\u001b[0m   if hasattr(pil_image, 'LANCZOS'):\n",
      "\u001b[2m\u001b[36m(pid=66428)\u001b[0m /Users/adamprice/Applications/anaconda3/envs/stocktake/lib/python3.8/site-packages/keras_preprocessing/image/utils.py:23: DeprecationWarning: NEAREST is deprecated and will be removed in Pillow 10 (2023-07-01). Use Resampling.NEAREST or Dither.NONE instead.\n",
      "\u001b[2m\u001b[36m(pid=66428)\u001b[0m   'nearest': pil_image.NEAREST,\n",
      "\u001b[2m\u001b[36m(pid=66428)\u001b[0m /Users/adamprice/Applications/anaconda3/envs/stocktake/lib/python3.8/site-packages/keras_preprocessing/image/utils.py:24: DeprecationWarning: BILINEAR is deprecated and will be removed in Pillow 10 (2023-07-01). Use Resampling.BILINEAR instead.\n",
      "\u001b[2m\u001b[36m(pid=66428)\u001b[0m   'bilinear': pil_image.BILINEAR,\n",
      "\u001b[2m\u001b[36m(pid=66428)\u001b[0m /Users/adamprice/Applications/anaconda3/envs/stocktake/lib/python3.8/site-packages/keras_preprocessing/image/utils.py:25: DeprecationWarning: BICUBIC is deprecated and will be removed in Pillow 10 (2023-07-01). Use Resampling.BICUBIC instead.\n",
      "\u001b[2m\u001b[36m(pid=66428)\u001b[0m   'bicubic': pil_image.BICUBIC,\n",
      "\u001b[2m\u001b[36m(pid=66428)\u001b[0m /Users/adamprice/Applications/anaconda3/envs/stocktake/lib/python3.8/site-packages/keras_preprocessing/image/utils.py:28: DeprecationWarning: HAMMING is deprecated and will be removed in Pillow 10 (2023-07-01). Use Resampling.HAMMING instead.\n",
      "\u001b[2m\u001b[36m(pid=66428)\u001b[0m   if hasattr(pil_image, 'HAMMING'):\n",
      "\u001b[2m\u001b[36m(pid=66428)\u001b[0m /Users/adamprice/Applications/anaconda3/envs/stocktake/lib/python3.8/site-packages/keras_preprocessing/image/utils.py:30: DeprecationWarning: BOX is deprecated and will be removed in Pillow 10 (2023-07-01). Use Resampling.BOX instead.\n",
      "\u001b[2m\u001b[36m(pid=66428)\u001b[0m   if hasattr(pil_image, 'BOX'):\n",
      "\u001b[2m\u001b[36m(pid=66428)\u001b[0m /Users/adamprice/Applications/anaconda3/envs/stocktake/lib/python3.8/site-packages/keras_preprocessing/image/utils.py:33: DeprecationWarning: LANCZOS is deprecated and will be removed in Pillow 10 (2023-07-01). Use Resampling.LANCZOS instead.\n",
      "\u001b[2m\u001b[36m(pid=66428)\u001b[0m   if hasattr(pil_image, 'LANCZOS'):\n",
      "\u001b[2m\u001b[36m(pid=66432)\u001b[0m /Users/adamprice/Applications/anaconda3/envs/stocktake/lib/python3.8/site-packages/keras_preprocessing/image/utils.py:23: DeprecationWarning: NEAREST is deprecated and will be removed in Pillow 10 (2023-07-01). Use Resampling.NEAREST or Dither.NONE instead.\n",
      "\u001b[2m\u001b[36m(pid=66432)\u001b[0m   'nearest': pil_image.NEAREST,\n",
      "\u001b[2m\u001b[36m(pid=66432)\u001b[0m /Users/adamprice/Applications/anaconda3/envs/stocktake/lib/python3.8/site-packages/keras_preprocessing/image/utils.py:24: DeprecationWarning: BILINEAR is deprecated and will be removed in Pillow 10 (2023-07-01). Use Resampling.BILINEAR instead.\n",
      "\u001b[2m\u001b[36m(pid=66432)\u001b[0m   'bilinear': pil_image.BILINEAR,\n",
      "\u001b[2m\u001b[36m(pid=66432)\u001b[0m /Users/adamprice/Applications/anaconda3/envs/stocktake/lib/python3.8/site-packages/keras_preprocessing/image/utils.py:25: DeprecationWarning: BICUBIC is deprecated and will be removed in Pillow 10 (2023-07-01). Use Resampling.BICUBIC instead.\n",
      "\u001b[2m\u001b[36m(pid=66432)\u001b[0m   'bicubic': pil_image.BICUBIC,\n",
      "\u001b[2m\u001b[36m(pid=66432)\u001b[0m /Users/adamprice/Applications/anaconda3/envs/stocktake/lib/python3.8/site-packages/keras_preprocessing/image/utils.py:28: DeprecationWarning: HAMMING is deprecated and will be removed in Pillow 10 (2023-07-01). Use Resampling.HAMMING instead.\n",
      "\u001b[2m\u001b[36m(pid=66432)\u001b[0m   if hasattr(pil_image, 'HAMMING'):\n",
      "\u001b[2m\u001b[36m(pid=66432)\u001b[0m /Users/adamprice/Applications/anaconda3/envs/stocktake/lib/python3.8/site-packages/keras_preprocessing/image/utils.py:30: DeprecationWarning: BOX is deprecated and will be removed in Pillow 10 (2023-07-01). Use Resampling.BOX instead.\n",
      "\u001b[2m\u001b[36m(pid=66432)\u001b[0m   if hasattr(pil_image, 'BOX'):\n",
      "\u001b[2m\u001b[36m(pid=66432)\u001b[0m /Users/adamprice/Applications/anaconda3/envs/stocktake/lib/python3.8/site-packages/keras_preprocessing/image/utils.py:33: DeprecationWarning: LANCZOS is deprecated and will be removed in Pillow 10 (2023-07-01). Use Resampling.LANCZOS instead.\n",
      "\u001b[2m\u001b[36m(pid=66432)\u001b[0m   if hasattr(pil_image, 'LANCZOS'):\n",
      "\u001b[2m\u001b[36m(pid=66430)\u001b[0m /Users/adamprice/Applications/anaconda3/envs/stocktake/lib/python3.8/site-packages/keras_preprocessing/image/utils.py:23: DeprecationWarning: NEAREST is deprecated and will be removed in Pillow 10 (2023-07-01). Use Resampling.NEAREST or Dither.NONE instead.\n",
      "\u001b[2m\u001b[36m(pid=66430)\u001b[0m   'nearest': pil_image.NEAREST,\n",
      "\u001b[2m\u001b[36m(pid=66430)\u001b[0m /Users/adamprice/Applications/anaconda3/envs/stocktake/lib/python3.8/site-packages/keras_preprocessing/image/utils.py:24: DeprecationWarning: BILINEAR is deprecated and will be removed in Pillow 10 (2023-07-01). Use Resampling.BILINEAR instead.\n",
      "\u001b[2m\u001b[36m(pid=66430)\u001b[0m   'bilinear': pil_image.BILINEAR,\n",
      "\u001b[2m\u001b[36m(pid=66430)\u001b[0m /Users/adamprice/Applications/anaconda3/envs/stocktake/lib/python3.8/site-packages/keras_preprocessing/image/utils.py:25: DeprecationWarning: BICUBIC is deprecated and will be removed in Pillow 10 (2023-07-01). Use Resampling.BICUBIC instead.\n",
      "\u001b[2m\u001b[36m(pid=66430)\u001b[0m   'bicubic': pil_image.BICUBIC,\n",
      "\u001b[2m\u001b[36m(pid=66430)\u001b[0m /Users/adamprice/Applications/anaconda3/envs/stocktake/lib/python3.8/site-packages/keras_preprocessing/image/utils.py:28: DeprecationWarning: HAMMING is deprecated and will be removed in Pillow 10 (2023-07-01). Use Resampling.HAMMING instead.\n",
      "\u001b[2m\u001b[36m(pid=66430)\u001b[0m   if hasattr(pil_image, 'HAMMING'):\n",
      "\u001b[2m\u001b[36m(pid=66430)\u001b[0m /Users/adamprice/Applications/anaconda3/envs/stocktake/lib/python3.8/site-packages/keras_preprocessing/image/utils.py:30: DeprecationWarning: BOX is deprecated and will be removed in Pillow 10 (2023-07-01). Use Resampling.BOX instead.\n",
      "\u001b[2m\u001b[36m(pid=66430)\u001b[0m   if hasattr(pil_image, 'BOX'):\n",
      "\u001b[2m\u001b[36m(pid=66430)\u001b[0m /Users/adamprice/Applications/anaconda3/envs/stocktake/lib/python3.8/site-packages/keras_preprocessing/image/utils.py:33: DeprecationWarning: LANCZOS is deprecated and will be removed in Pillow 10 (2023-07-01). Use Resampling.LANCZOS instead.\n",
      "\u001b[2m\u001b[36m(pid=66430)\u001b[0m   if hasattr(pil_image, 'LANCZOS'):\n",
      "\u001b[2m\u001b[36m(pid=66431)\u001b[0m /Users/adamprice/Applications/anaconda3/envs/stocktake/lib/python3.8/site-packages/keras_preprocessing/image/utils.py:23: DeprecationWarning: NEAREST is deprecated and will be removed in Pillow 10 (2023-07-01). Use Resampling.NEAREST or Dither.NONE instead.\n",
      "\u001b[2m\u001b[36m(pid=66431)\u001b[0m   'nearest': pil_image.NEAREST,\n",
      "\u001b[2m\u001b[36m(pid=66431)\u001b[0m /Users/adamprice/Applications/anaconda3/envs/stocktake/lib/python3.8/site-packages/keras_preprocessing/image/utils.py:24: DeprecationWarning: BILINEAR is deprecated and will be removed in Pillow 10 (2023-07-01). Use Resampling.BILINEAR instead.\n",
      "\u001b[2m\u001b[36m(pid=66431)\u001b[0m   'bilinear': pil_image.BILINEAR,\n",
      "\u001b[2m\u001b[36m(pid=66431)\u001b[0m /Users/adamprice/Applications/anaconda3/envs/stocktake/lib/python3.8/site-packages/keras_preprocessing/image/utils.py:25: DeprecationWarning: BICUBIC is deprecated and will be removed in Pillow 10 (2023-07-01). Use Resampling.BICUBIC instead.\n",
      "\u001b[2m\u001b[36m(pid=66431)\u001b[0m   'bicubic': pil_image.BICUBIC,\n",
      "\u001b[2m\u001b[36m(pid=66431)\u001b[0m /Users/adamprice/Applications/anaconda3/envs/stocktake/lib/python3.8/site-packages/keras_preprocessing/image/utils.py:28: DeprecationWarning: HAMMING is deprecated and will be removed in Pillow 10 (2023-07-01). Use Resampling.HAMMING instead.\n",
      "\u001b[2m\u001b[36m(pid=66431)\u001b[0m   if hasattr(pil_image, 'HAMMING'):\n",
      "\u001b[2m\u001b[36m(pid=66431)\u001b[0m /Users/adamprice/Applications/anaconda3/envs/stocktake/lib/python3.8/site-packages/keras_preprocessing/image/utils.py:30: DeprecationWarning: BOX is deprecated and will be removed in Pillow 10 (2023-07-01). Use Resampling.BOX instead.\n",
      "\u001b[2m\u001b[36m(pid=66431)\u001b[0m   if hasattr(pil_image, 'BOX'):\n",
      "\u001b[2m\u001b[36m(pid=66431)\u001b[0m /Users/adamprice/Applications/anaconda3/envs/stocktake/lib/python3.8/site-packages/keras_preprocessing/image/utils.py:33: DeprecationWarning: LANCZOS is deprecated and will be removed in Pillow 10 (2023-07-01). Use Resampling.LANCZOS instead.\n",
      "\u001b[2m\u001b[36m(pid=66431)\u001b[0m   if hasattr(pil_image, 'LANCZOS'):\n",
      "\u001b[2m\u001b[36m(RolloutWorker pid=66429)\u001b[0m /Users/adamprice/Desktop/Poker/poker_env.py:10: DeprecationWarning: Using or importing the ABCs from 'collections' instead of from 'collections.abc' is deprecated since Python 3.3, and in 3.10 it will stop working\n",
      "\u001b[2m\u001b[36m(RolloutWorker pid=66429)\u001b[0m   from collections import Iterable\n",
      "\u001b[2m\u001b[36m(RolloutWorker pid=66427)\u001b[0m /Users/adamprice/Desktop/Poker/poker_env.py:10: DeprecationWarning: Using or importing the ABCs from 'collections' instead of from 'collections.abc' is deprecated since Python 3.3, and in 3.10 it will stop working\n",
      "\u001b[2m\u001b[36m(RolloutWorker pid=66427)\u001b[0m   from collections import Iterable\n",
      "\u001b[2m\u001b[36m(RolloutWorker pid=66433)\u001b[0m /Users/adamprice/Desktop/Poker/poker_env.py:10: DeprecationWarning: Using or importing the ABCs from 'collections' instead of from 'collections.abc' is deprecated since Python 3.3, and in 3.10 it will stop working\n",
      "\u001b[2m\u001b[36m(RolloutWorker pid=66433)\u001b[0m   from collections import Iterable\n",
      "\u001b[2m\u001b[36m(RolloutWorker pid=66426)\u001b[0m /Users/adamprice/Desktop/Poker/poker_env.py:10: DeprecationWarning: Using or importing the ABCs from 'collections' instead of from 'collections.abc' is deprecated since Python 3.3, and in 3.10 it will stop working\n",
      "\u001b[2m\u001b[36m(RolloutWorker pid=66426)\u001b[0m   from collections import Iterable\n",
      "\u001b[2m\u001b[36m(RolloutWorker pid=66428)\u001b[0m /Users/adamprice/Desktop/Poker/poker_env.py:10: DeprecationWarning: Using or importing the ABCs from 'collections' instead of from 'collections.abc' is deprecated since Python 3.3, and in 3.10 it will stop working\n",
      "\u001b[2m\u001b[36m(RolloutWorker pid=66428)\u001b[0m   from collections import Iterable\n",
      "\u001b[2m\u001b[36m(RolloutWorker pid=66432)\u001b[0m /Users/adamprice/Desktop/Poker/poker_env.py:10: DeprecationWarning: Using or importing the ABCs from 'collections' instead of from 'collections.abc' is deprecated since Python 3.3, and in 3.10 it will stop working\n",
      "\u001b[2m\u001b[36m(RolloutWorker pid=66432)\u001b[0m   from collections import Iterable\n",
      "\u001b[2m\u001b[36m(RolloutWorker pid=66430)\u001b[0m /Users/adamprice/Desktop/Poker/poker_env.py:10: DeprecationWarning: Using or importing the ABCs from 'collections' instead of from 'collections.abc' is deprecated since Python 3.3, and in 3.10 it will stop working\n",
      "\u001b[2m\u001b[36m(RolloutWorker pid=66430)\u001b[0m   from collections import Iterable\n",
      "\u001b[2m\u001b[36m(RolloutWorker pid=66431)\u001b[0m /Users/adamprice/Desktop/Poker/poker_env.py:10: DeprecationWarning: Using or importing the ABCs from 'collections' instead of from 'collections.abc' is deprecated since Python 3.3, and in 3.10 it will stop working\n",
      "\u001b[2m\u001b[36m(RolloutWorker pid=66431)\u001b[0m   from collections import Iterable\n",
      "2022-11-10 15:04:31,863\tINFO trainable.py:162 -- Trainable.setup took 13.818 seconds. If your trainable is slow to initialize, consider setting reuse_actors=True to reduce actor creation overheads.\n",
      "2022-11-10 15:04:31,866\tWARNING util.py:66 -- Install gputil for GPU system monitoring.\n"
     ]
    }
   ],
   "source": [
    "heuristic_observation_space = spaces.Dict({\n",
    "            \"hand\": spaces.Box(0, 1, shape=(24, )),\n",
    "            \"community\": spaces.Box(0, 1, shape=(24, ))\n",
    "        })\n",
    "action_space = spaces.Discrete(3)\n",
    "\n",
    "#Defines the learning models architecture. \n",
    "model = MODEL_DEFAULTS.update({'fcnet_hiddens': [512, 512], 'fcnet_activation': 'relu'})\n",
    "\n",
    "config = (\n",
    "    PPOConfig()\n",
    "    #Each rollout worker uses a single cpu\n",
    "    .rollouts(num_rollout_workers=8, num_envs_per_worker=1)\\\n",
    "    .training(train_batch_size=4000, gamma=0.99, model=model, lr=0.0004)\\\n",
    "    .environment(disable_env_checking=True)\\\n",
    "    .multi_agent(\n",
    "        policies={\n",
    "            #These policies thave pre-definded polices that dont learn.\n",
    "            \"a3c\": PolicySpec(config=A3C.get_default_config()),\n",
    "            \"sac\": PolicySpec(config=SAC.get_default_config()),\n",
    "            \"dqn\": PolicySpec(config=DQN.get_default_config()),\n",
    "            #Passing nothing causes this agent to deafult to using a PPO policy\n",
    "            \"ppo\": PolicySpec(\n",
    "                config={}\n",
    "            ),\n",
    "        },\n",
    "        policy_mapping_fn=select_policy,\n",
    "        policies_to_train=['a3c', 'sac', 'dqn', 'ppo'],\n",
    "    )\\\n",
    "    .resources(num_gpus=0)\\\n",
    "    .framework('torch')\n",
    ")\n",
    "trainer = config.build(env=\"poker\")"
   ]
  },
  {
   "cell_type": "code",
   "execution_count": 4,
   "metadata": {},
   "outputs": [],
   "source": [
    "#Start up tensorboard\n",
    "#!tensorboard --logdir=~/ray_results --host 0.0.0.0"
   ]
  },
  {
   "cell_type": "markdown",
   "metadata": {},
   "source": [
    "Training loop, each run will rollout x timesteps (where x is train_batch_size). An weight update is then applied using the rollout data. "
   ]
  },
  {
   "cell_type": "code",
   "execution_count": 5,
   "metadata": {},
   "outputs": [
    {
     "name": "stderr",
     "output_type": "stream",
     "text": [
      "2022-11-10 15:04:33,952\tWARNING deprecation.py:47 -- DeprecationWarning: `_get_slice_indices` has been deprecated. This will raise an error in the future!\n"
     ]
    }
   ],
   "source": [
    "for i in range(1000):\n",
    "    trainer.train()"
   ]
  },
  {
   "cell_type": "code",
   "execution_count": null,
   "metadata": {},
   "outputs": [],
   "source": [
    "#Saves a checkpoint of the trainer.\n",
    "trainer.save(\"checkpoint/ppo_poker\")"
   ]
  },
  {
   "cell_type": "code",
   "execution_count": null,
   "metadata": {},
   "outputs": [],
   "source": []
  }
 ],
 "metadata": {
  "kernelspec": {
   "display_name": "Python 3 (ipykernel)",
   "language": "python",
   "name": "python3"
  },
  "language_info": {
   "codemirror_mode": {
    "name": "ipython",
    "version": 3
   },
   "file_extension": ".py",
   "mimetype": "text/x-python",
   "name": "python",
   "nbconvert_exporter": "python",
   "pygments_lexer": "ipython3",
   "version": "3.10.6"
  },
  "vscode": {
   "interpreter": {
    "hash": "03af9a79c2dca760cc1a7eb3ed3e88bcac6dcfea843cc60b832e817055251c13"
   }
  }
 },
 "nbformat": 4,
 "nbformat_minor": 2
}
