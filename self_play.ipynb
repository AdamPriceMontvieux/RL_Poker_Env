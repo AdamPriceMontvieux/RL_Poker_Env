{
 "cells": [
  {
   "cell_type": "code",
   "execution_count": null,
   "id": "5af1f0c4",
   "metadata": {},
   "outputs": [],
   "source": [
    "# Train an agent against heuristics \n",
    "# Save the checkpoint \n",
    "# Then make a new game with 3 fixed and one trainable. \n",
    "# Then checkpoint reload again "
   ]
  },
  {
   "cell_type": "code",
   "execution_count": null,
   "id": "a11dfec6",
   "metadata": {},
   "outputs": [],
   "source": [
    "import sys\n",
    "from poker_env import PokerEnv\n",
    "from agents.random_policy import RandomActions\n",
    "from agents.heuristic_policy import HeuristicPolicy\n",
    "from ray.rllib.algorithms.ppo import PPOConfig\n",
    "from gym import spaces\n",
    "import mpu\n",
    "import numpy as np\n",
    "import ray\n",
    "from ray.rllib.models import MODEL_DEFAULTS\n",
    "from ray.rllib.policy.policy import PolicySpec\n",
    "from ray.tune.registry import register_env\n",
    "import tensorflow as tf\n",
    "import torch"
   ]
  },
  {
   "cell_type": "code",
   "execution_count": 2,
   "id": "eaabf2e5",
   "metadata": {},
   "outputs": [],
   "source": [
    "import aces_helpers\n",
    "from datetime import datetime\n"
   ]
  },
  {
   "cell_type": "code",
   "execution_count": null,
   "id": "1f942a10",
   "metadata": {},
   "outputs": [],
   "source": [
    "# Train an agent against heuristics \n"
   ]
  },
  {
   "cell_type": "code",
   "execution_count": null,
   "id": "82bd850a",
   "metadata": {},
   "outputs": [],
   "source": [
    "# initial model \n",
    "model = MODEL_DEFAULTS.update({'fcnet_hiddens': [512, 512], 'fcnet_activation': 'relu'})\n"
   ]
  },
  {
   "cell_type": "code",
   "execution_count": null,
   "id": "075d15c1",
   "metadata": {},
   "outputs": [],
   "source": [
    "# crearte env \n",
    "config, trainer = create_env_etc(model)"
   ]
  },
  {
   "cell_type": "code",
   "execution_count": null,
   "id": "b5ae0e40",
   "metadata": {},
   "outputs": [],
   "source": [
    "# train for a bit \n",
    "for i in range(10):\n",
    "    trainer.train()"
   ]
  },
  {
   "cell_type": "code",
   "execution_count": null,
   "id": "11928b02",
   "metadata": {},
   "outputs": [],
   "source": [
    "# save checkpoint "
   ]
  },
  {
   "cell_type": "code",
   "execution_count": 4,
   "id": "17f2268b",
   "metadata": {},
   "outputs": [
    {
     "data": {
      "text/plain": [
       "'20221110-144912'"
      ]
     },
     "execution_count": 4,
     "metadata": {},
     "output_type": "execute_result"
    }
   ],
   "source": [
    "timestr = datetime.now().strftime(\"%Y%m%d-%H%M%S\")\n",
    "timestr"
   ]
  },
  {
   "cell_type": "code",
   "execution_count": null,
   "id": "4e3c710f",
   "metadata": {},
   "outputs": [],
   "source": [
    "checkpoint_path = \"checkpoint/\"+timestr\n",
    "trainer.save(checkpoint_path)"
   ]
  },
  {
   "cell_type": "code",
   "execution_count": null,
   "id": "d791090b",
   "metadata": {},
   "outputs": [],
   "source": []
  },
  {
   "cell_type": "code",
   "execution_count": null,
   "id": "837bcedd",
   "metadata": {},
   "outputs": [],
   "source": []
  },
  {
   "cell_type": "code",
   "execution_count": null,
   "id": "3748f5fe",
   "metadata": {},
   "outputs": [],
   "source": []
  }
 ],
 "metadata": {
  "kernelspec": {
   "display_name": "Python 3 (ipykernel)",
   "language": "python",
   "name": "python3"
  },
  "language_info": {
   "codemirror_mode": {
    "name": "ipython",
    "version": 3
   },
   "file_extension": ".py",
   "mimetype": "text/x-python",
   "name": "python",
   "nbconvert_exporter": "python",
   "pygments_lexer": "ipython3",
   "version": "3.10.6"
  }
 },
 "nbformat": 4,
 "nbformat_minor": 5
}
