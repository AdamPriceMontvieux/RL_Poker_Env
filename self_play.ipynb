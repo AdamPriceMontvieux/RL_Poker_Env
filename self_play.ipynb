{
 "cells": [
  {
   "cell_type": "code",
   "execution_count": null,
   "id": "affefd43",
   "metadata": {},
   "outputs": [],
   "source": [
    "# Train an agent against heuristics \n",
    "# Save the checkpoint \n",
    "# Then make a new game with 3 fixed and one trainable. \n",
    "# Then checkpoint reload again "
   ]
  },
  {
   "cell_type": "code",
   "execution_count": 1,
   "id": "543649ed",
   "metadata": {},
   "outputs": [
    {
     "name": "stderr",
     "output_type": "stream",
     "text": [
      "/home/ubuntu/.local/lib/python3.10/site-packages/gym/wrappers/monitoring/video_recorder.py:9: DeprecationWarning: The distutils package is deprecated and slated for removal in Python 3.12. Use setuptools or check PEP 632 for potential alternatives\n",
      "  import distutils.spawn\n"
     ]
    }
   ],
   "source": [
    "import sys\n",
    "from poker_env import PokerEnv\n",
    "from agents.random_policy import RandomActions\n",
    "from agents.heuristic_policy import HeuristicPolicy\n",
    "from ray.rllib.algorithms.ppo import PPOConfig\n",
    "from gym import spaces\n",
    "import mpu\n",
    "import numpy as np\n",
    "import ray\n",
    "from ray.rllib.models import MODEL_DEFAULTS\n",
    "from ray.rllib.policy.policy import PolicySpec\n",
    "from ray.tune.registry import register_env\n",
    "import tensorflow as tf\n",
    "import torch"
   ]
  },
  {
   "cell_type": "code",
   "execution_count": 2,
   "id": "ef625883",
   "metadata": {},
   "outputs": [],
   "source": [
    "import aces_helpers\n",
    "from datetime import datetime\n",
    "%load_ext autoreload\n",
    "%autoreload 2"
   ]
  },
  {
   "cell_type": "code",
   "execution_count": 3,
   "id": "8e42364a",
   "metadata": {},
   "outputs": [],
   "source": [
    "# Train an agent against heuristics \n"
   ]
  },
  {
   "cell_type": "code",
   "execution_count": 7,
   "id": "09fb7f90",
   "metadata": {},
   "outputs": [],
   "source": [
    "# initial model \n",
    "# load a model \n",
    "env_config = {}\n",
    "env_config['agent0'] = {'type':'Heuristic','difficulty':0}\n",
    "env_config['agent1'] = {'type':'Heuristic','difficulty':1}\n",
    "env_config['agent2'] = {'type':'Heuristic','difficulty':2}\n",
    "env_config['agent3'] = {'type':'ppo','train':True}\n",
    "# policy_checkpoint_path = 'models/ppo/20221110-165127' \n",
    "\n",
    "# env_config['agent3'] = {'type':'ppo','policy_checkpoint_path':policy_checkpoint_path,'train':True}\n",
    "\n"
   ]
  },
  {
   "cell_type": "code",
   "execution_count": 8,
   "id": "aafd3ba9",
   "metadata": {},
   "outputs": [
    {
     "name": "stdout",
     "output_type": "stream",
     "text": [
      "['ppo_3']\n"
     ]
    },
    {
     "name": "stderr",
     "output_type": "stream",
     "text": [
      "\u001b[2m\u001b[36m(pid=27708)\u001b[0m /home/ubuntu/.local/lib/python3.10/site-packages/gym/wrappers/monitoring/video_recorder.py:9: DeprecationWarning: The distutils package is deprecated and slated for removal in Python 3.12. Use setuptools or check PEP 632 for potential alternatives\n",
      "\u001b[2m\u001b[36m(pid=27708)\u001b[0m   import distutils.spawn\n",
      "\u001b[2m\u001b[36m(pid=27707)\u001b[0m /home/ubuntu/.local/lib/python3.10/site-packages/gym/wrappers/monitoring/video_recorder.py:9: DeprecationWarning: The distutils package is deprecated and slated for removal in Python 3.12. Use setuptools or check PEP 632 for potential alternatives\n",
      "\u001b[2m\u001b[36m(pid=27707)\u001b[0m   import distutils.spawn\n",
      "2022-11-10 17:01:56,674\tWARNING util.py:66 -- Install gputil for GPU system monitoring.\n"
     ]
    }
   ],
   "source": [
    "# crearte env \n",
    "config, trainer = aces_helpers.create_env_etc(env_config)"
   ]
  },
  {
   "cell_type": "code",
   "execution_count": 9,
   "id": "478e6ce3",
   "metadata": {},
   "outputs": [],
   "source": [
    "# train for a bit \n",
    "for i in range(10):\n",
    "    trainer.train()"
   ]
  },
  {
   "cell_type": "code",
   "execution_count": 10,
   "id": "761ac7dd",
   "metadata": {},
   "outputs": [
    {
     "name": "stderr",
     "output_type": "stream",
     "text": [
      "2022-11-10 17:03:04,183\tWARNING policy.py:121 -- Can not figure out a durable policy name for <class 'agents.heuristic_policy.HeuristicPolicy'>. You are probably trying to checkpoint a custom policy. Raw policy class may cause problems when the checkpoint needs to be loaded in the future. To fix this, make sure you add your custom policy in rllib.algorithms.registry.POLICIES.\n",
      "2022-11-10 17:03:04,186\tWARNING policy.py:121 -- Can not figure out a durable policy name for <class 'agents.heuristic_policy.HeuristicPolicy'>. You are probably trying to checkpoint a custom policy. Raw policy class may cause problems when the checkpoint needs to be loaded in the future. To fix this, make sure you add your custom policy in rllib.algorithms.registry.POLICIES.\n",
      "2022-11-10 17:03:04,190\tWARNING policy.py:121 -- Can not figure out a durable policy name for <class 'agents.heuristic_policy.HeuristicPolicy'>. You are probably trying to checkpoint a custom policy. Raw policy class may cause problems when the checkpoint needs to be loaded in the future. To fix this, make sure you add your custom policy in rllib.algorithms.registry.POLICIES.\n"
     ]
    }
   ],
   "source": [
    "# save checkpoint \n",
    "timestr = datetime.now().strftime(\"%Y%m%d-%H%M%S\")\n",
    "checkpoint_path = \"checkpoint/\"+timestr\n",
    "trainer.save(checkpoint_path) # Save the whole thing \n",
    "policy_checkpoint_path = \"models/\"+\"ppo/\"+timestr\n",
    "trainer.get_policy('ppo_3').export_model(policy_checkpoint_path)  # Save just the ppo model "
   ]
  },
  {
   "cell_type": "code",
   "execution_count": 11,
   "id": "8457f677",
   "metadata": {},
   "outputs": [],
   "source": [
    "# load a model \n",
    "env_config = {}\n",
    "env_config['agent0'] = {'type':'Heuristic','difficulty':0}\n",
    "env_config['agent1'] = {'type':'Heuristic','difficulty':1}\n",
    "env_config['agent2'] = {'type':'Heuristic','difficulty':2}\n",
    "env_config['agent3'] = {'type':'ppo','policy_checkpoint_path':policy_checkpoint_path}\n",
    "\n",
    "\n",
    "# load a model \n",
    "env_config = {}\n",
    "env_config['agent0'] = {'type':'ppo','policy_checkpoint_path':policy_checkpoint_path,'train':False}\n",
    "env_config['agent1'] = {'type':'ppo','policy_checkpoint_path':policy_checkpoint_path,'train':False}\n",
    "env_config['agent2'] = {'type':'ppo','policy_checkpoint_path':policy_checkpoint_path,'train':False}\n",
    "#env_config['agent3'] = {'type':'ppo','policy_checkpoint_path':policy_checkpoint_path,'train':True}\n",
    "env_config['agent3'] = {'type':'ppo','train':True}"
   ]
  },
  {
   "cell_type": "code",
   "execution_count": 12,
   "id": "e59d862d",
   "metadata": {},
   "outputs": [
    {
     "name": "stdout",
     "output_type": "stream",
     "text": [
      "models/ppo/20221110-170304\n",
      "models/ppo/20221110-170304\n",
      "models/ppo/20221110-170304\n",
      "['ppo_3']\n"
     ]
    },
    {
     "name": "stderr",
     "output_type": "stream",
     "text": [
      "\u001b[2m\u001b[36m(pid=27850)\u001b[0m /home/ubuntu/.local/lib/python3.10/site-packages/gym/wrappers/monitoring/video_recorder.py:9: DeprecationWarning: The distutils package is deprecated and slated for removal in Python 3.12. Use setuptools or check PEP 632 for potential alternatives\n",
      "\u001b[2m\u001b[36m(pid=27850)\u001b[0m   import distutils.spawn\n",
      "\u001b[2m\u001b[36m(pid=27849)\u001b[0m /home/ubuntu/.local/lib/python3.10/site-packages/gym/wrappers/monitoring/video_recorder.py:9: DeprecationWarning: The distutils package is deprecated and slated for removal in Python 3.12. Use setuptools or check PEP 632 for potential alternatives\n",
      "\u001b[2m\u001b[36m(pid=27849)\u001b[0m   import distutils.spawn\n",
      "2022-11-10 17:03:08,790\tWARNING util.py:66 -- Install gputil for GPU system monitoring.\n"
     ]
    }
   ],
   "source": [
    "config, trainer = aces_helpers.create_env_etc(env_config)"
   ]
  },
  {
   "cell_type": "code",
   "execution_count": null,
   "id": "59393eb8",
   "metadata": {},
   "outputs": [],
   "source": [
    "# train for a bit \n",
    "for i in range(100):\n",
    "    trainer.train()"
   ]
  },
  {
   "cell_type": "code",
   "execution_count": null,
   "id": "716a345e",
   "metadata": {},
   "outputs": [],
   "source": []
  },
  {
   "cell_type": "code",
   "execution_count": null,
   "id": "225f365f",
   "metadata": {},
   "outputs": [],
   "source": []
  }
 ],
 "metadata": {
  "kernelspec": {
   "display_name": "Python 3 (ipykernel)",
   "language": "python",
   "name": "python3"
  },
  "language_info": {
   "codemirror_mode": {
    "name": "ipython",
    "version": 3
   },
   "file_extension": ".py",
   "mimetype": "text/x-python",
   "name": "python",
   "nbconvert_exporter": "python",
   "pygments_lexer": "ipython3",
   "version": "3.10.6"
  }
 },
 "nbformat": 4,
 "nbformat_minor": 5
}
