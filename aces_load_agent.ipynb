{
 "cells": [
  {
   "cell_type": "code",
   "execution_count": 1,
   "id": "19fe71be",
   "metadata": {},
   "outputs": [
    {
     "name": "stderr",
     "output_type": "stream",
     "text": [
      "/home/ubuntu/.local/lib/python3.10/site-packages/gym/wrappers/monitoring/video_recorder.py:9: DeprecationWarning: The distutils package is deprecated and slated for removal in Python 3.12. Use setuptools or check PEP 632 for potential alternatives\n",
      "  import distutils.spawn\n"
     ]
    }
   ],
   "source": [
    "import sys\n",
    "from poker_env import PokerEnv\n",
    "from agents.random_policy import RandomActions\n",
    "from agents.heuristic_policy import HeuristicPolicy\n",
    "from ray.rllib.algorithms.ppo import PPOConfig\n",
    "from gym import spaces\n",
    "import mpu\n",
    "import numpy as np\n",
    "import ray\n",
    "from ray.rllib.models import MODEL_DEFAULTS\n",
    "from ray.rllib.policy.policy import PolicySpec\n",
    "from ray.tune.registry import register_env\n",
    "import tensorflow as tf\n",
    "import torch"
   ]
  },
  {
   "cell_type": "code",
   "execution_count": 2,
   "id": "7753c84b",
   "metadata": {},
   "outputs": [],
   "source": [
    "import aces_helpers\n",
    "from datetime import datetime\n",
    "%load_ext autoreload\n",
    "%autoreload 2"
   ]
  },
  {
   "cell_type": "code",
   "execution_count": 38,
   "id": "d3cdaded",
   "metadata": {},
   "outputs": [],
   "source": [
    "policy_checkpoint_path = '/home/ubuntu/repos/RL_Poker_Env/models/ppo/20221111-093708/agent_3'\n",
    "env_config = {}\n",
    "env_config['agent0'] = {'type':'ppo','policy_checkpoint_path':policy_checkpoint_path,'train':True}\n",
    "env_config['agent1'] = {'type':'ppo','policy_checkpoint_path':policy_checkpoint_path,'train':True}\n",
    "env_config['agent2'] = {'type':'ppo','policy_checkpoint_path':policy_checkpoint_path,'train':True}\n",
    "env_config['agent3'] = {'type':'ppo','policy_checkpoint_path':policy_checkpoint_path,'train':True}"
   ]
  },
  {
   "cell_type": "code",
   "execution_count": 39,
   "id": "9e1896aa",
   "metadata": {},
   "outputs": [
    {
     "name": "stdout",
     "output_type": "stream",
     "text": [
      "/home/ubuntu/repos/RL_Poker_Env/models/ppo/20221111-093708/agent_3\n",
      "/home/ubuntu/repos/RL_Poker_Env/models/ppo/20221111-093708/agent_3\n",
      "/home/ubuntu/repos/RL_Poker_Env/models/ppo/20221111-093708/agent_3\n",
      "/home/ubuntu/repos/RL_Poker_Env/models/ppo/20221111-093708/agent_3\n",
      "['ppo_0', 'ppo_1', 'ppo_2', 'ppo_3']\n"
     ]
    },
    {
     "name": "stderr",
     "output_type": "stream",
     "text": [
      "\u001b[2m\u001b[36m(pid=63668)\u001b[0m /home/ubuntu/.local/lib/python3.10/site-packages/gym/wrappers/monitoring/video_recorder.py:9: DeprecationWarning: The distutils package is deprecated and slated for removal in Python 3.12. Use setuptools or check PEP 632 for potential alternatives\n",
      "\u001b[2m\u001b[36m(pid=63668)\u001b[0m   import distutils.spawn\n",
      "\u001b[2m\u001b[36m(pid=63669)\u001b[0m /home/ubuntu/.local/lib/python3.10/site-packages/gym/wrappers/monitoring/video_recorder.py:9: DeprecationWarning: The distutils package is deprecated and slated for removal in Python 3.12. Use setuptools or check PEP 632 for potential alternatives\n",
      "\u001b[2m\u001b[36m(pid=63669)\u001b[0m   import distutils.spawn\n",
      "2022-11-11 11:37:34,638\tWARNING util.py:66 -- Install gputil for GPU system monitoring.\n"
     ]
    }
   ],
   "source": [
    "config, trainer, agent_names_dict = aces_helpers.create_env_etc(env_config)"
   ]
  },
  {
   "cell_type": "code",
   "execution_count": 40,
   "id": "b640af95",
   "metadata": {},
   "outputs": [],
   "source": [
    "#trainer.restore('/home/ubuntu/repos/RL_Poker_Env/checkpoint/20221111-093708/checkpoint_004700')"
   ]
  },
  {
   "cell_type": "code",
   "execution_count": 41,
   "id": "b7ca72c4",
   "metadata": {},
   "outputs": [
    {
     "name": "stdout",
     "output_type": "stream",
     "text": [
      "ppo_0\n",
      "ppo_1\n",
      "ppo_2\n",
      "ppo_3\n"
     ]
    }
   ],
   "source": [
    "# policies = [] \n",
    "policies,agent_names,policy_strings = aces_helpers.get_lists_from_dict(agent_names_dict,trainer)"
   ]
  },
  {
   "cell_type": "code",
   "execution_count": 42,
   "id": "2b61e931",
   "metadata": {},
   "outputs": [
    {
     "name": "stdout",
     "output_type": "stream",
     "text": [
      "ppo_0: returns 159.0\n",
      "ppo_1: returns -115.0\n",
      "ppo_2: returns -96.0\n",
      "ppo_3: returns -57.0\n"
     ]
    }
   ],
   "source": [
    "aces_helpers.run_eval(policies,agent_names,policy_strings,1000)"
   ]
  },
  {
   "cell_type": "code",
   "execution_count": null,
   "id": "786caff5",
   "metadata": {},
   "outputs": [],
   "source": []
  },
  {
   "cell_type": "code",
   "execution_count": 53,
   "id": "6263ac5c",
   "metadata": {},
   "outputs": [],
   "source": [
    "policy_checkpoint_path = '/home/ubuntu/repos/RL_Poker_Env/models/ppo/20221111-093708/agent_3'\n",
    "env_config = {}\n",
    "env_config['agent0'] = {'type':'Heuristic','difficulty':2}\n",
    "env_config['agent1'] = {'type':'Heuristic','difficulty':2}\n",
    "env_config['agent2'] = {'type':'Heuristic','difficulty':2}\n",
    "env_config['agent3'] = {'type':'ppo','policy_checkpoint_path':policy_checkpoint_path,'train':True}"
   ]
  },
  {
   "cell_type": "code",
   "execution_count": 54,
   "id": "0c9c6721",
   "metadata": {},
   "outputs": [
    {
     "name": "stdout",
     "output_type": "stream",
     "text": [
      "/home/ubuntu/repos/RL_Poker_Env/models/ppo/20221111-093708/agent_3\n",
      "['ppo_3']\n"
     ]
    },
    {
     "name": "stderr",
     "output_type": "stream",
     "text": [
      "\u001b[2m\u001b[36m(pid=64176)\u001b[0m /home/ubuntu/.local/lib/python3.10/site-packages/gym/wrappers/monitoring/video_recorder.py:9: DeprecationWarning: The distutils package is deprecated and slated for removal in Python 3.12. Use setuptools or check PEP 632 for potential alternatives\n",
      "\u001b[2m\u001b[36m(pid=64176)\u001b[0m   import distutils.spawn\n",
      "\u001b[2m\u001b[36m(pid=64177)\u001b[0m /home/ubuntu/.local/lib/python3.10/site-packages/gym/wrappers/monitoring/video_recorder.py:9: DeprecationWarning: The distutils package is deprecated and slated for removal in Python 3.12. Use setuptools or check PEP 632 for potential alternatives\n",
      "\u001b[2m\u001b[36m(pid=64177)\u001b[0m   import distutils.spawn\n",
      "2022-11-11 11:47:27,515\tWARNING util.py:66 -- Install gputil for GPU system monitoring.\n"
     ]
    }
   ],
   "source": [
    "config, trainer, agent_names_dict = aces_helpers.create_env_etc(env_config)"
   ]
  },
  {
   "cell_type": "code",
   "execution_count": 55,
   "id": "b157fd17",
   "metadata": {},
   "outputs": [
    {
     "name": "stdout",
     "output_type": "stream",
     "text": [
      "Heuristic_0\n",
      "Heuristic_1\n",
      "Heuristic_2\n",
      "ppo_3\n"
     ]
    }
   ],
   "source": [
    "policies,agent_names,policy_strings = aces_helpers.get_lists_from_dict(agent_names_dict,trainer)\n"
   ]
  },
  {
   "cell_type": "code",
   "execution_count": null,
   "id": "ac4f70c3",
   "metadata": {},
   "outputs": [],
   "source": [
    "aces_helpers.run_eval(policies,agent_names,policy_strings,10000)"
   ]
  },
  {
   "cell_type": "code",
   "execution_count": null,
   "id": "94052b5b",
   "metadata": {},
   "outputs": [],
   "source": []
  },
  {
   "cell_type": "code",
   "execution_count": 48,
   "id": "ebd51ae8",
   "metadata": {},
   "outputs": [],
   "source": [
    "policy_checkpoint_path = '/home/ubuntu/repos/RL_Poker_Env/models/ppo/20221111-093708/agent_3'\n",
    "env_config = {}\n",
    "env_config['agent0'] = {'type':'ppo','train':True}\n",
    "env_config['agent1'] = {'type':'ppo','train':True}\n",
    "env_config['agent2'] = {'type':'ppo','train':True}\n",
    "env_config['agent3'] = {'type':'ppo','policy_checkpoint_path':policy_checkpoint_path,'train':True}"
   ]
  },
  {
   "cell_type": "code",
   "execution_count": 49,
   "id": "8e9ae030",
   "metadata": {},
   "outputs": [
    {
     "name": "stdout",
     "output_type": "stream",
     "text": [
      "using default policy spec\n",
      "using default policy spec\n",
      "using default policy spec\n",
      "/home/ubuntu/repos/RL_Poker_Env/models/ppo/20221111-093708/agent_3\n",
      "['ppo_0', 'ppo_1', 'ppo_2', 'ppo_3']\n"
     ]
    },
    {
     "name": "stderr",
     "output_type": "stream",
     "text": [
      "\u001b[2m\u001b[36m(pid=63912)\u001b[0m /home/ubuntu/.local/lib/python3.10/site-packages/gym/wrappers/monitoring/video_recorder.py:9: DeprecationWarning: The distutils package is deprecated and slated for removal in Python 3.12. Use setuptools or check PEP 632 for potential alternatives\n",
      "\u001b[2m\u001b[36m(pid=63912)\u001b[0m   import distutils.spawn\n",
      "\u001b[2m\u001b[36m(pid=63913)\u001b[0m /home/ubuntu/.local/lib/python3.10/site-packages/gym/wrappers/monitoring/video_recorder.py:9: DeprecationWarning: The distutils package is deprecated and slated for removal in Python 3.12. Use setuptools or check PEP 632 for potential alternatives\n",
      "\u001b[2m\u001b[36m(pid=63913)\u001b[0m   import distutils.spawn\n",
      "2022-11-11 11:40:39,036\tWARNING util.py:66 -- Install gputil for GPU system monitoring.\n"
     ]
    }
   ],
   "source": [
    "config, trainer, agent_names_dict = aces_helpers.create_env_etc(env_config)"
   ]
  },
  {
   "cell_type": "code",
   "execution_count": 50,
   "id": "7d8f043f",
   "metadata": {},
   "outputs": [
    {
     "name": "stdout",
     "output_type": "stream",
     "text": [
      "ppo_0\n",
      "ppo_1\n",
      "ppo_2\n",
      "ppo_3\n"
     ]
    }
   ],
   "source": [
    "policies,agent_names,policy_strings = aces_helpers.get_lists_from_dict(agent_names_dict,trainer)"
   ]
  },
  {
   "cell_type": "code",
   "execution_count": 52,
   "id": "7bb61189",
   "metadata": {},
   "outputs": [
    {
     "name": "stdout",
     "output_type": "stream",
     "text": [
      "ppo_0: returns -1011.0\n",
      "ppo_1: returns -409.0\n",
      "ppo_2: returns -481.0\n",
      "ppo_3: returns 1843.0\n"
     ]
    }
   ],
   "source": [
    "aces_helpers.run_eval(policies,agent_names,policy_strings,1000)"
   ]
  },
  {
   "cell_type": "code",
   "execution_count": null,
   "id": "695d7cff",
   "metadata": {},
   "outputs": [],
   "source": []
  }
 ],
 "metadata": {
  "kernelspec": {
   "display_name": "Python 3 (ipykernel)",
   "language": "python",
   "name": "python3"
  },
  "language_info": {
   "codemirror_mode": {
    "name": "ipython",
    "version": 3
   },
   "file_extension": ".py",
   "mimetype": "text/x-python",
   "name": "python",
   "nbconvert_exporter": "python",
   "pygments_lexer": "ipython3",
   "version": "3.10.6"
  }
 },
 "nbformat": 4,
 "nbformat_minor": 5
}
