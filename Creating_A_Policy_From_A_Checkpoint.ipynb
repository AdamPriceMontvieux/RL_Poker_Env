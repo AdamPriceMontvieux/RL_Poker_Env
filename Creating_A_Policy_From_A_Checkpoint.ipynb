{
 "cells": [
  {
   "cell_type": "markdown",
   "metadata": {},
   "source": [
    "Code for loading a trained policy and turning it into a static agent.\n",
    "\n",
    "Note, this is a bit of a WIP, and only works with torch currently. If you want to implement advisieral or leauge learning, this might be a good starting point, but not a full implmentation. "
   ]
  },
  {
   "cell_type": "code",
   "execution_count": null,
   "metadata": {},
   "outputs": [],
   "source": [
    "import sys\n",
    "from poker_env import PokerEnv\n",
    "from agents.random_policy import RandomActions\n",
    "from agents.heuristic_policy import HeuristicPolicy\n",
    "from ray.rllib.algorithms.ppo import PPOConfig\n",
    "from gym import spaces\n",
    "import mpu\n",
    "import numpy as np\n",
    "import ray\n",
    "from ray.rllib.models import MODEL_DEFAULTS\n",
    "from ray.rllib.policy.policy import PolicySpec\n",
    "from ray.tune.registry import register_env\n",
    "import tensorflow as tf\n",
    "import torch"
   ]
  },
  {
   "cell_type": "markdown",
   "metadata": {},
   "source": [
    "Load in the config that trained the policy you want to extract."
   ]
  },
  {
   "cell_type": "code",
   "execution_count": null,
   "metadata": {},
   "outputs": [],
   "source": [
    "def select_policy(agent_id, episode, **kwargs):\n",
    "    if agent_id == 0:\n",
    "        return \"learned\"\n",
    "    elif agent_id == 1:\n",
    "        return \"Heuristic_10\"\n",
    "    elif agent_id == 2:\n",
    "        return \"Heuristic_100\"\n",
    "    elif agent_id == 3:\n",
    "        return \"Heuristic_1000\"\n",
    "    return \"Heuristic_1000\"\n",
    "\n",
    "def env_creator(config):\n",
    "    env = PokerEnv(select_policy, config)\n",
    "    return env\n",
    "\n",
    "register_env(\"poker\", lambda config: env_creator(config))"
   ]
  },
  {
   "cell_type": "code",
   "execution_count": null,
   "metadata": {},
   "outputs": [],
   "source": [
    "heuristic_observation_space = spaces.Dict({\n",
    "            \"hand\": spaces.Box(0, 1, shape=(24, )),\n",
    "            \"community\": spaces.Box(0, 1, shape=(24, ))\n",
    "        })\n",
    "\n",
    "model = MODEL_DEFAULTS.update({'fcnet_hiddens': [512, 512], 'fcnet_activation': 'relu'})\n",
    "action_space = spaces.Discrete(3)\n",
    "config = (\n",
    "    PPOConfig()\n",
    "    .rollouts(num_rollout_workers=0, num_envs_per_worker=0)\\\n",
    "    .training(train_batch_size=0, gamma=0.99, model=model, lr=0.0004)\\\n",
    "    .environment(disable_env_checking=True)\\\n",
    "    .multi_agent(\n",
    "        policies={\n",
    "            \"random\": PolicySpec(policy_class=RandomActions),\n",
    "            \"Heuristic_10\": (HeuristicPolicy, heuristic_observation_space, action_space, {'difficulty': 0}),\n",
    "            \"Heuristic_100\": (HeuristicPolicy, heuristic_observation_space, action_space, {'difficulty': 1}),\n",
    "            \"learned\": PolicySpec(\n",
    "                config={}\n",
    "            ),\n",
    "        },\n",
    "        policy_mapping_fn=select_policy,\n",
    "        policies_to_train=['learned'],\n",
    "    )\\\n",
    "    .resources(num_gpus=0)\\\n",
    "    .framework('torch')\n",
    ")\n",
    "trainer = config.build(env=\"poker\")\n",
    "trainer.restore('checkpoint/ppo_poker/checkpoint_000011')\n",
    "#Get out the trained policy\n",
    "trainer.get_policy('learned').export_model('models/ppo_agent')"
   ]
  },
  {
   "cell_type": "code",
   "execution_count": null,
   "metadata": {},
   "outputs": [],
   "source": [
    "'''\n",
    "example for tensorflow. Can only work with tf1 and this is still kinda broken.\n",
    "model = tf.saved_model.load('models/ppo_agent')\n",
    "inference = model.signatures[\"serving_default\"]\n",
    "inference(is_training=tf.constant(False), observations=tf.convert_to_tensor(np.zeros((1,69)), dtype=tf.float32), timestep=tf.constant(-1, dtype=tf.int64))\n",
    "'''"
   ]
  },
  {
   "cell_type": "code",
   "execution_count": null,
   "metadata": {},
   "outputs": [],
   "source": [
    "model = torch.load('models/ppo_agent/model.pt')\n",
    "model.eval()\n",
    "dic = {'obs': torch.tensor(np.zeros((69,1)).reshape(1, -1))}\n",
    "torch.argmax(model(dic, [torch.tensor(np.zeros(0))], torch.tensor(np.zeros(1)))[0])"
   ]
  },
  {
   "cell_type": "markdown",
   "metadata": {},
   "source": [
    "Now set up the training env using the pre trained agent as a static agent in the environment. "
   ]
  },
  {
   "cell_type": "code",
   "execution_count": null,
   "metadata": {},
   "outputs": [],
   "source": [
    "from ray.rllib.policy.policy import Policy\n",
    "from ray.rllib.utils.spaces.space_utils import (\n",
    "    get_base_struct_from_space)\n",
    "from gym import spaces\n",
    "\n",
    "class TrainedPolicyAgent(Policy):\n",
    "\n",
    "    def __init__(self, *args, **kwargs):\n",
    "        super().__init__(*args, **kwargs)  \n",
    "        #model = tf.saved_model.load('models/ppo_agent')\n",
    "        #self.inference = model.signatures[\"serving_default\"]\n",
    "        self.model = torch.load('models/ppo_agent/model.pt')\n",
    "        self.model.eval()\n",
    "        \n",
    "    def get_initial_state(self):\n",
    "        return [0]\n",
    "        \n",
    "    def compute_actions(\n",
    "            self,\n",
    "            obs_batch,\n",
    "            state_batches=None,\n",
    "            prev_action_batch=None,\n",
    "            prev_reward_batch=None,\n",
    "            info_batch=None,\n",
    "            episodes=None,\n",
    "            **kwargs\n",
    "        ):\n",
    "        #return inference(is_training=tf.constant(False), observations=obs_batch, timestep=tf.constant(-1, dtype=tf.int64))['actions_0'][0]\n",
    "        dic = {'obs': torch.tensor(obs_batch.reshape(1, -1))}\n",
    "        return [torch.argmax(self.model(dic, [torch.tensor(np.zeros(0))], torch.tensor(np.zeros(1)))[0]).item()], [], {}\n",
    "\n",
    "    def get_weights(self):\n",
    "        return None\n",
    "\n",
    "    def set_weights(self, weights):\n",
    "        return None\n"
   ]
  },
  {
   "cell_type": "code",
   "execution_count": null,
   "metadata": {},
   "outputs": [],
   "source": [
    "def select_policy_new_agent(agent_id, episode, **kwargs):\n",
    "    if agent_id == 0:\n",
    "        return \"learned\"\n",
    "    elif agent_id == 1:\n",
    "        return \"Heuristic_10\"\n",
    "    elif agent_id == 2:\n",
    "        return \"Heuristic_100\"\n",
    "    elif agent_id == 3:\n",
    "        return \"PPO_Agent\"\n",
    "    return \"Heuristic_1000\"\n",
    "\n",
    "def env_creator(config):\n",
    "    env = PokerEnvMulti(select_policy_new_agent, config)\n",
    "    return env\n",
    "    \n",
    "register_env(\"poker\", lambda config: env_creator(config))\n",
    "\n",
    "PPO_Agent_observation_space = spaces.Dict({\n",
    "            \"obs\": spaces.Box(0, 400, shape=(24+24+16+4, )),\n",
    "            \"state\": spaces.Box(0, 1, shape=(1, )),\n",
    "        })\n",
    "\n",
    "heuristic_observation_space = spaces.Dict({\n",
    "            \"hand\": spaces.Box(0, 1, shape=(24, )),\n",
    "            \"community\": spaces.Box(0, 1, shape=(24, ))\n",
    "        })\n",
    "\n",
    "action_space = spaces.Discrete(3)\n",
    "\n",
    "model = MODEL_DEFAULTS.update({'fcnet_hiddens': [512, 512], 'fcnet_activation': 'relu'})\n",
    "\n",
    "config = (\n",
    "    PPOConfig()\n",
    "    .rollouts(num_rollout_workers=1, num_envs_per_worker=1)\\\n",
    "    .training(train_batch_size=4000, gamma=0.99, model=model, lr=0.0004)\\\n",
    "    .environment(disable_env_checking=True)\\\n",
    "    .multi_agent(\n",
    "        policies={\n",
    "            \"random\": PolicySpec(policy_class=RandomActions),\n",
    "            \"Heuristic_10\": (HeuristicPolicy, heuristic_observation_space, action_space, {'difficulty': 0}),\n",
    "            \"Heuristic_100\": (HeuristicPolicy, heuristic_observation_space, action_space, {'difficulty': 1}),\n",
    "            \"PPO_Agent\": (TrainedPolicyAgent, PPO_Agent_observation_space, action_space, {}),\n",
    "            \"learned\": PolicySpec(\n",
    "                config={}\n",
    "            ),\n",
    "        },\n",
    "        policy_mapping_fn=select_policy_new_agent,\n",
    "        policies_to_train=['learned'],\n",
    "    )\\\n",
    "    .resources(num_gpus=0)\\\n",
    "    .framework('torch')\n",
    ")\n",
    "trainer = config.build(env=\"poker\")\n"
   ]
  },
  {
   "cell_type": "code",
   "execution_count": null,
   "metadata": {},
   "outputs": [],
   "source": [
    "for i in range(1000):\n",
    "    trainer.train()"
   ]
  },
  {
   "cell_type": "code",
   "execution_count": null,
   "metadata": {},
   "outputs": [],
   "source": [
    "\n"
   ]
  }
 ],
 "metadata": {
  "kernelspec": {
   "display_name": "Python 3 (ipykernel)",
   "language": "python",
   "name": "python3"
  },
  "language_info": {
   "codemirror_mode": {
    "name": "ipython",
    "version": 3
   },
   "file_extension": ".py",
   "mimetype": "text/x-python",
   "name": "python",
   "nbconvert_exporter": "python",
   "pygments_lexer": "ipython3",
   "version": "3.10.6"
  },
  "vscode": {
   "interpreter": {
    "hash": "03af9a79c2dca760cc1a7eb3ed3e88bcac6dcfea843cc60b832e817055251c13"
   }
  }
 },
 "nbformat": 4,
 "nbformat_minor": 2
}
