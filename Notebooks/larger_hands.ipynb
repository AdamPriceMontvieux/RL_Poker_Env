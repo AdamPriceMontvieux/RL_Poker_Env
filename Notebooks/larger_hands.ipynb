{
 "cells": [
  {
   "cell_type": "code",
   "execution_count": 4,
   "metadata": {},
   "outputs": [],
   "source": [
    "import itertools\n",
    "import numpy as np\n",
    "from multiprocessing.dummy import Pool\n",
    "import os.path\n",
    "import mpu\n",
    "import time\n",
    "import sys\n",
    "sys.path.append('../')\n",
    "from card import Card\n",
    "import pickle"
   ]
  },
  {
   "cell_type": "code",
   "execution_count": null,
   "metadata": {},
   "outputs": [],
   "source": [
    "if os.path.isfile('SevenCardHands.npy'):\n",
    "    SevenCardHands = np.load('SevenCardHands.npy')\n",
    "else:\n",
    "    SevenCardHands = np.array(list(itertools.combinations(range(28),7)))\n",
    "    np.save('SevenCardHands.npy', SevenCardHands)\n",
    "print(SevenCardHands.shape)"
   ]
  },
  {
   "cell_type": "code",
   "execution_count": null,
   "metadata": {},
   "outputs": [],
   "source": [
    "if os.path.isfile('SixCardHands.npy'):\n",
    "    SixCardHands = np.load('SixCardHands.npy')\n",
    "else:\n",
    "    SixCardHands = np.array(list(itertools.combinations(range(28),6)))\n",
    "    np.save('SixCardHands.npy', SixCardHands)\n",
    "print(SixCardHands.shape)"
   ]
  },
  {
   "cell_type": "code",
   "execution_count": null,
   "metadata": {},
   "outputs": [],
   "source": [
    "if os.path.isfile('FiveCardHands.npy'):\n",
    "    FiveCardHands = np.load('FiveCardHands.npy')\n",
    "else:\n",
    "    FiveCardHands = np.array(list(itertools.combinations(range(28),5)))\n",
    "    np.save('FiveCardHands.npy', FiveCardHands)\n",
    "print(FiveCardHands.shape)"
   ]
  },
  {
   "cell_type": "code",
   "execution_count": 8,
   "metadata": {},
   "outputs": [
    {
     "name": "stdout",
     "output_type": "stream",
     "text": [
      "(378, 2)\n"
     ]
    }
   ],
   "source": [
    "if os.path.isfile('TwoCardHands.npy'):\n",
    "    TwoCardHands = np.load('TwoCardHands.npy')\n",
    "else:\n",
    "    TwoCardHands = np.array(list(itertools.combinations(range(28),2)))\n",
    "    np.save('TwoCardHands.npy', TwoCardHands)\n",
    "print(TwoCardHands.shape)"
   ]
  },
  {
   "cell_type": "code",
   "execution_count": null,
   "metadata": {},
   "outputs": [],
   "source": [
    "def score_hand(hand):\n",
    "    flush = hand.sum(axis=0).sum(axis=1)\n",
    "    is_flush = np.max(flush) >= 5\n",
    "    card_values = hand.sum(axis=0).sum(axis=0)\n",
    "    count = 0\n",
    "    hand_high = 8\n",
    "    is_stright = False\n",
    "    stright_high = 5\n",
    "    for i, s in enumerate(card_values): \n",
    "        if s >= 1:\n",
    "            count += 1\n",
    "            hand_high = i\n",
    "            if count >=5:\n",
    "                stright_high = i\n",
    "                is_stright = True\n",
    "        else:\n",
    "            count = 0\n",
    "    if is_stright and is_flush:\n",
    "        return 8, stright_high, hand_high    \n",
    "    is_four_of_a_kind = np.isin(card_values, 4)\n",
    "    if np.sum(is_four_of_a_kind):\n",
    "        return 7, np.argwhere(is_four_of_a_kind==True)[0][0], hand_high\n",
    "    is_three_of_a_kind = np.isin(card_values, 3)\n",
    "    is_pair = np.isin(card_values, 2)\n",
    "    if np.sum(is_pair) and np.sum(is_three_of_a_kind):\n",
    "        return 6, np.argwhere(is_three_of_a_kind==True)[0][0], hand_high\n",
    "    if is_flush:\n",
    "        return 5, np.argwhere(hand.sum(axis=0)[np.argmax(flush)]==1)[-1][0], hand_high\n",
    "    if is_stright:\n",
    "        return 4, stright_high, hand_high\n",
    "    if np.sum(is_three_of_a_kind):\n",
    "        return 3, np.argwhere(is_three_of_a_kind==True)[0][0], hand_high\n",
    "    if np.sum(is_pair) >= 2:\n",
    "        return 2, np.argwhere(is_pair==True)[1][0], hand_high\n",
    "    if np.sum(is_pair):\n",
    "        return 1, np.argwhere(is_pair==True)[0][0], hand_high\n",
    "    return 0, 0, hand_high"
   ]
  },
  {
   "cell_type": "code",
   "execution_count": null,
   "metadata": {},
   "outputs": [],
   "source": [
    "HandScores = {}\n",
    "def run(k):\n",
    "    hand = np.zeros((7, 28), dtype=np.int8)\n",
    "    for i in range(7):\n",
    "        hand[i,SevenCardHands[k,i]] = 1\n",
    "    hand = hand.reshape(7,4,7)\n",
    "    HandScores[SevenCardHands[k,:].tobytes()] = score_hand(hand)\n",
    "p = Pool(10)\n",
    "p.map(run, range(SevenCardHands.shape[0]))\n",
    "p.close()\n",
    "p.join()\n",
    "mpu.io.write('HandScores.pickle', HandScores)"
   ]
  },
  {
   "cell_type": "code",
   "execution_count": null,
   "metadata": {},
   "outputs": [],
   "source": [
    "HandScores = mpu.io.read('filename.pickle')"
   ]
  },
  {
   "cell_type": "code",
   "execution_count": null,
   "metadata": {},
   "outputs": [],
   "source": [
    "scores = []\n",
    "for hand in SevenCardHands:\n",
    "    if np.all(np.in1d(FiveCardHands[0], hand)):\n",
    "        scores.append(HandScores[hand.tobytes()])"
   ]
  },
  {
   "cell_type": "code",
   "execution_count": null,
   "metadata": {},
   "outputs": [],
   "source": [
    "len(SevenCardHands) / 60 "
   ]
  },
  {
   "cell_type": "code",
   "execution_count": 6,
   "metadata": {},
   "outputs": [],
   "source": [
    "\n",
    "def score_hands(index):\n",
    "    hand = FiveCardHands[int(index)]\n",
    "    histo = np.zeros((9))\n",
    "    deck = np.arange(28)\n",
    "    deck = np.delete(deck, hand)\n",
    "    for i in range(iters):\n",
    "        np.random.shuffle(deck)\n",
    "        cards = np.zeros((num_cards,28))\n",
    "        for k, c in enumerate(hand):\n",
    "            cards[k,c] = 1\n",
    "        for k in range(len(hand),num_cards):\n",
    "            cards[k,deck[k]] = 1\n",
    "        cards = cards.reshape(num_cards,4,7)\n",
    "        histo[score_hand(cards)[0:1]] += 1\n",
    "    score = 0\n",
    "    for i in range(9):\n",
    "        score += (i+1)*histo[i]/iters\n",
    "    scores[hand.tobytes()] = score\n",
    "\n",
    "scores = {}\n",
    "num_cards = 7\n",
    "iters_ = [10, 100, 1000]\n",
    "for iter in iters_:\n",
    "    iters  = iter\n",
    "    p = Pool(10)\n",
    "    p.map(score_hands, range(FiveCardHands.shape[0]))\n",
    "    p.close()\n",
    "    p.join()\n",
    "    mpu.io.write('5_card_values_'+str(iter)+'.pickle', scores)"
   ]
  },
  {
   "cell_type": "code",
   "execution_count": 7,
   "metadata": {},
   "outputs": [],
   "source": [
    "def score_hands(index):\n",
    "    hand = SixCardHands[int(index)]\n",
    "    histo = np.zeros((9))\n",
    "    deck = np.arange(28)\n",
    "    deck = np.delete(deck, hand)\n",
    "    for i in range(iters):\n",
    "        np.random.shuffle(deck)\n",
    "        cards = np.zeros((num_cards,28))\n",
    "        for k, c in enumerate(hand):\n",
    "            cards[k,c] = 1\n",
    "        for k in range(len(hand),num_cards):\n",
    "            cards[k,deck[k]] = 1\n",
    "        cards = cards.reshape(num_cards,4,7)\n",
    "        histo[score_hand(cards)[0:1]] += 1\n",
    "    score = 0\n",
    "    for i in range(9):\n",
    "        score += (i+1)*histo[i]/iters\n",
    "    scores[hand.tobytes()] = score\n",
    "\n",
    "\n",
    "scores = {}\n",
    "num_cards = 7\n",
    "iters_ = [10, 100, 1000]\n",
    "for iter in iters_:\n",
    "    iters  = iter\n",
    "    p = Pool(5)\n",
    "    p.map(score_hands, range(SixCardHands.shape[0]))\n",
    "    p.close()\n",
    "    p.join()\n",
    "    mpu.io.write('6_card_values_'+str(iter)+'.pickle', scores)"
   ]
  },
  {
   "cell_type": "code",
   "execution_count": 9,
   "metadata": {},
   "outputs": [],
   "source": [
    "def score_hands(index):\n",
    "    hand = TwoCardHands[int(index)]\n",
    "    histo = np.zeros((9))\n",
    "    deck = np.arange(28)\n",
    "    deck = np.delete(deck, hand)\n",
    "    for i in range(iters):\n",
    "        np.random.shuffle(deck)\n",
    "        cards = np.zeros((num_cards,28))\n",
    "        for k, c in enumerate(hand):\n",
    "            cards[k,c] = 1\n",
    "        for k in range(len(hand),num_cards):\n",
    "            cards[k,deck[k]] = 1\n",
    "        cards = cards.reshape(num_cards,4,7)\n",
    "        histo[score_hand(cards)[0:1]] += 1\n",
    "    score = 0\n",
    "    for i in range(9):\n",
    "        score += (i+1)*histo[i]/iters\n",
    "    scores[hand.tobytes()] = score\n",
    "\n",
    "\n",
    "scores = {}\n",
    "num_cards = 7\n",
    "iters_ = [10, 100, 1000]\n",
    "for iter in iters_:\n",
    "    iters  = iter\n",
    "    p = Pool(5)\n",
    "    p.map(score_hands, range(TwoCardHands.shape[0]))\n",
    "    p.close()\n",
    "    p.join()\n",
    "    mpu.io.write('2_card_values_'+str(iter)+'.pickle', scores)"
   ]
  },
  {
   "cell_type": "code",
   "execution_count": 6,
   "metadata": {},
   "outputs": [],
   "source": [
    "for i in [10,100,1000]:\n",
    "    dic = mpu.io.read('2_card_values_' + str(i) + '.pickle')\n",
    "    dic.update(mpu.io.read('5_card_values_' + str(i) + '.pickle'))\n",
    "    dic.update(mpu.io.read('6_card_values_' + str(i) + '.pickle'))\n",
    "    mpu.io.write('hand_value_table_'+str(i)+'.pickle', dic)"
   ]
  }
 ],
 "metadata": {
  "kernelspec": {
   "display_name": "Python 3.8.10 ('stocktake')",
   "language": "python",
   "name": "python3"
  },
  "language_info": {
   "codemirror_mode": {
    "name": "ipython",
    "version": 3
   },
   "file_extension": ".py",
   "mimetype": "text/x-python",
   "name": "python",
   "nbconvert_exporter": "python",
   "pygments_lexer": "ipython3",
   "version": "3.8.10"
  },
  "orig_nbformat": 4,
  "vscode": {
   "interpreter": {
    "hash": "03af9a79c2dca760cc1a7eb3ed3e88bcac6dcfea843cc60b832e817055251c13"
   }
  }
 },
 "nbformat": 4,
 "nbformat_minor": 2
}
