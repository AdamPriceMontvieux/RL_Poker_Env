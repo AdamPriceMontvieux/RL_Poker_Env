{
 "cells": [
  {
   "cell_type": "code",
   "execution_count": 2,
   "metadata": {},
   "outputs": [],
   "source": [
    "import itertools\n",
    "import numpy as np\n",
    "from multiprocessing.dummy import Pool\n",
    "import os.path\n",
    "import mpu\n",
    "import time\n",
    "import sys\n",
    "sys.path.append('../')\n",
    "from card import Card"
   ]
  },
  {
   "cell_type": "code",
   "execution_count": 3,
   "metadata": {},
   "outputs": [
    {
     "name": "stdout",
     "output_type": "stream",
     "text": [
      "(3365856, 7)\n"
     ]
    }
   ],
   "source": [
    "if os.path.isfile('SevenCardHands.npy'):\n",
    "    SevenCardHands = np.load('SevenCardHands.npy')\n",
    "else:\n",
    "    SevenCardHands = np.array(list(itertools.combinations(range(32),7)))\n",
    "    np.save('SevenCardHands.npy', SevenCardHands)\n",
    "print(SevenCardHands.shape)"
   ]
  },
  {
   "cell_type": "code",
   "execution_count": 4,
   "metadata": {},
   "outputs": [
    {
     "name": "stdout",
     "output_type": "stream",
     "text": [
      "(201376, 5)\n"
     ]
    }
   ],
   "source": [
    "if os.path.isfile('FiveCardHands.npy'):\n",
    "    FiveCardHands = np.load('FiveCardHands.npy')\n",
    "else:\n",
    "    FiveCardHands = np.array(list(itertools.combinations(range(32),5)))\n",
    "    np.save('FiveCardHands.npy', FiveCardHands)\n",
    "print(FiveCardHands.shape)"
   ]
  },
  {
   "cell_type": "code",
   "execution_count": 7,
   "metadata": {},
   "outputs": [],
   "source": [
    "def score_hand(hand):\n",
    "    flush = hand.sum(axis=0).sum(axis=1)\n",
    "    is_flush = np.max(flush) >= 5\n",
    "    card_values = hand.sum(axis=0).sum(axis=0)\n",
    "    count = 0\n",
    "    hand_high = 8\n",
    "    is_stright = False\n",
    "    stright_high = 5\n",
    "    for i, s in enumerate(card_values): \n",
    "        if s >= 1:\n",
    "            count += 1\n",
    "            hand_high = i\n",
    "            if count >=5:\n",
    "                stright_high = i\n",
    "                is_stright = True\n",
    "        else:\n",
    "            count = 0\n",
    "    if is_stright and is_flush:\n",
    "        return 8, stright_high, hand_high    \n",
    "    is_four_of_a_kind = np.isin(card_values, 4)\n",
    "    if np.sum(is_four_of_a_kind):\n",
    "        return 7, np.argwhere(is_four_of_a_kind==True)[0][0], hand_high\n",
    "    is_three_of_a_kind = np.isin(card_values, 3)\n",
    "    is_pair = np.isin(card_values, 2)\n",
    "    if np.sum(is_pair) and np.sum(is_three_of_a_kind):\n",
    "        return 6, np.argwhere(is_three_of_a_kind==True)[0][0], hand_high\n",
    "    if is_flush:\n",
    "        return 5, np.argwhere(hand.sum(axis=0)[np.argmax(flush)]==1)[-1][0], hand_high\n",
    "    if is_stright:\n",
    "        return 4, stright_high, hand_high\n",
    "    if np.sum(is_three_of_a_kind):\n",
    "        return 3, np.argwhere(is_three_of_a_kind==True)[0][0], hand_high\n",
    "    if np.sum(is_pair) >= 2:\n",
    "        return 2, np.argwhere(is_pair==True)[1][0], hand_high\n",
    "    if np.sum(is_pair):\n",
    "        return 1, np.argwhere(is_pair==True)[0][0], hand_high\n",
    "    return 0, 0, hand_high"
   ]
  },
  {
   "cell_type": "code",
   "execution_count": 11,
   "metadata": {},
   "outputs": [],
   "source": [
    "HandScores = {}\n",
    "def run(k):\n",
    "    hand = np.zeros((7, 32), dtype=np.int8)\n",
    "    for i in range(7):\n",
    "        hand[i,SevenCardHands[k,i]] = 1\n",
    "    hand = hand.reshape(7,4,8)\n",
    "    HandScores[SevenCardHands[k,:].tobytes()] = score_hand(hand)\n",
    "p = Pool(10)\n",
    "p.map(run, range(SevenCardHands.shape[0]))\n",
    "p.close()\n",
    "p.join()\n",
    "mpu.io.write('filename.pickle', HandScores)"
   ]
  },
  {
   "cell_type": "code",
   "execution_count": 8,
   "metadata": {},
   "outputs": [],
   "source": [
    "HandScores = mpu.io.read('filename.pickle')"
   ]
  },
  {
   "cell_type": "code",
   "execution_count": 12,
   "metadata": {},
   "outputs": [
    {
     "name": "stdout",
     "output_type": "stream",
     "text": [
      "[0 1 2 3 4 5 6]\n"
     ]
    }
   ],
   "source": [
    "for hand in SevenCardHands:\n",
    "    if np.all(np.in1d(FiveCardHands[0], hand)):\n",
    "        print(HandScores[hand.tobytes])"
   ]
  },
  {
   "cell_type": "code",
   "execution_count": 5,
   "metadata": {},
   "outputs": [
    {
     "data": {
      "text/plain": [
       "\"\\nscores = {}\\nnum_cards = 7\\niters = 1\\nfor hand in FiveCardHands[0:260]:\\n    histo = np.zeros((9))\\n    deck = np.arange(52)\\n    deck = np.delete(deck, hand)\\n    for i in range(iters):\\n        np.random.shuffle(deck)\\n        cards = np.zeros((num_cards,52))\\n        for i, c in enumerate(hand):\\n            cards[i,c] = 1\\n        for i in range(len(hand),num_cards):\\n            cards[i,deck[i]] = 1\\n        cards = cards.reshape(num_cards,4,13)\\n        histo[score_hand(cards)[0:1]] += 1\\n    score = 0\\n    for i in range(9):\\n        score += (i+1)*histo[i]/iters\\n    scores[hand.tobytes()] = score\\nnp.save('5_card_values_'+str(iters)+'.npy', scores)\\nscores\\n\""
      ]
     },
     "execution_count": 5,
     "metadata": {},
     "output_type": "execute_result"
    }
   ],
   "source": [
    "'''\n",
    "scores = {}\n",
    "num_cards = 7\n",
    "iters = 1\n",
    "for hand in FiveCardHands[0:260]:\n",
    "    histo = np.zeros((9))\n",
    "    deck = np.arange(52)\n",
    "    deck = np.delete(deck, hand)\n",
    "    for i in range(iters):\n",
    "        np.random.shuffle(deck)\n",
    "        cards = np.zeros((num_cards,52))\n",
    "        for i, c in enumerate(hand):\n",
    "            cards[i,c] = 1\n",
    "        for i in range(len(hand),num_cards):\n",
    "            cards[i,deck[i]] = 1\n",
    "        cards = cards.reshape(num_cards,4,13)\n",
    "        histo[score_hand(cards)[0:1]] += 1\n",
    "    score = 0\n",
    "    for i in range(9):\n",
    "        score += (i+1)*histo[i]/iters\n",
    "    scores[hand.tobytes()] = score\n",
    "np.save('5_card_values_'+str(iters)+'.npy', scores)\n",
    "scores\n",
    "'''"
   ]
  },
  {
   "cell_type": "code",
   "execution_count": 9,
   "metadata": {},
   "outputs": [],
   "source": [
    "scores = {}\n",
    "num_cards = 7\n",
    "iters = 100\n",
    "\n",
    "def score_hands(index):\n",
    "    hand = FiveCardHands[int(index)]\n",
    "    histo = np.zeros((9))\n",
    "    deck = np.arange(52)\n",
    "    deck = np.delete(deck, hand)\n",
    "    for i in range(iters):\n",
    "        np.random.shuffle(deck)\n",
    "        cards = np.zeros((num_cards,52))\n",
    "        for k, c in enumerate(hand):\n",
    "            cards[k,c] = 1\n",
    "        for k in range(len(hand),num_cards):\n",
    "            cards[k,deck[k]] = 1\n",
    "        cards = cards.reshape(num_cards,4,13)\n",
    "        histo[score_hand(cards)[0:1]] += 1\n",
    "    score = 0\n",
    "    for i in range(9):\n",
    "        score += (i+1)*histo[i]/iters\n",
    "    scores[hand.tobytes()] = score\n",
    "\n",
    "p = Pool(10)\n",
    "p.map(score_hands, range(FiveCardHands.shape[0]))\n",
    "p.close()\n",
    "p.join()\n",
    "np.save('5_card_values_'+str(iters)+'.npy', scores)"
   ]
  },
  {
   "cell_type": "code",
   "execution_count": 134,
   "metadata": {},
   "outputs": [
    {
     "data": {
      "text/plain": [
       "2598960"
      ]
     },
     "execution_count": 134,
     "metadata": {},
     "output_type": "execute_result"
    }
   ],
   "source": [
    "FiveCardHands.shape[0]"
   ]
  }
 ],
 "metadata": {
  "kernelspec": {
   "display_name": "Python 3.8.5 ('base')",
   "language": "python",
   "name": "python3"
  },
  "language_info": {
   "codemirror_mode": {
    "name": "ipython",
    "version": 3
   },
   "file_extension": ".py",
   "mimetype": "text/x-python",
   "name": "python",
   "nbconvert_exporter": "python",
   "pygments_lexer": "ipython3",
   "version": "3.8.5"
  },
  "orig_nbformat": 4,
  "vscode": {
   "interpreter": {
    "hash": "77aa5c7a8032890130e9a412da4828609b1dfa25c62620094c03af7a5cea44b0"
   }
  }
 },
 "nbformat": 4,
 "nbformat_minor": 2
}
