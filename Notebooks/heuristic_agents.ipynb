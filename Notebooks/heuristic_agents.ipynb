{
 "cells": [
  {
   "cell_type": "code",
   "execution_count": 6,
   "metadata": {},
   "outputs": [],
   "source": [
    "import numpy as np\n",
    "import sys\n",
    "sys.path.append('../')\n",
    "from card import Card"
   ]
  },
  {
   "cell_type": "code",
   "execution_count": 25,
   "metadata": {},
   "outputs": [],
   "source": [
    "matrix = np.load('../AITables/2_card_values_10000_norm.npy')\n",
    "def get_action(observation):\n",
    "    cards = []\n",
    "    for i in range(observation.shape[0]):\n",
    "        cards.append(np.argmax(observation[i,:]))\n",
    "    rand = np.random.rand()\n",
    "    value = matrix[cards[0],cards[1]]\n",
    "    print(value)\n",
    "    if value > rand * 1.5:\n",
    "        return 2 #Raise\n",
    "    elif value > rand:\n",
    "        return 1 #Call\n",
    "    else: \n",
    "        return 0 #Fold"
   ]
  },
  {
   "cell_type": "code",
   "execution_count": 26,
   "metadata": {},
   "outputs": [
    {
     "name": "stdout",
     "output_type": "stream",
     "text": [
      "0.8517252951764956\n"
     ]
    },
    {
     "data": {
      "text/plain": [
       "1"
      ]
     },
     "execution_count": 26,
     "metadata": {},
     "output_type": "execute_result"
    }
   ],
   "source": [
    "obs = np.zeros((7, 52))\n",
    "obs[0, 5] = 1\n",
    "obs[1, 6] = 1\n",
    "\n",
    "get_action(obs)"
   ]
  }
 ],
 "metadata": {
  "kernelspec": {
   "display_name": "Python 3.10.7 64-bit (microsoft store)",
   "language": "python",
   "name": "python3"
  },
  "language_info": {
   "codemirror_mode": {
    "name": "ipython",
    "version": 3
   },
   "file_extension": ".py",
   "mimetype": "text/x-python",
   "name": "python",
   "nbconvert_exporter": "python",
   "pygments_lexer": "ipython3",
   "version": "3.10.7"
  },
  "orig_nbformat": 4,
  "vscode": {
   "interpreter": {
    "hash": "c295b91a4a4f8e66f37da6a2fbf5c84e6919990d10548059361442497be2c972"
   }
  }
 },
 "nbformat": 4,
 "nbformat_minor": 2
}
