{
 "cells": [
  {
   "cell_type": "code",
   "execution_count": 11,
   "metadata": {},
   "outputs": [],
   "source": [
    "import sys\n",
    "sys.path.append('../')\n",
    "from poker_env_multi import PokerEnvMulti\n",
    "from agents.base_agent import BaseAgent"
   ]
  },
  {
   "cell_type": "code",
   "execution_count": 2,
   "metadata": {},
   "outputs": [
    {
     "name": "stderr",
     "output_type": "stream",
     "text": [
      "/Users/adamprice/Applications/anaconda3/envs/stocktake/lib/python3.8/site-packages/ipykernel/ipkernel.py:287: DeprecationWarning: `should_run_async` will not call `transform_cell` automatically in the future. Please pass the result to `transformed_cell` argument and any exception that happen during thetransform in `preprocessing_exc_tuple` in IPython 7.17 and above.\n",
      "  and should_run_async(code)\n"
     ]
    }
   ],
   "source": [
    "test = PokerEnvMulti({'player_ids': [0,1,2,3,4,5]})"
   ]
  },
  {
   "cell_type": "code",
   "execution_count": 3,
   "metadata": {},
   "outputs": [
    {
     "name": "stdout",
     "output_type": "stream",
     "text": [
      "[0. 0. 0. 0. 0. 0. 0. 0. 0. 0. 0. 0. 0. 0. 0. 0. 1. 0. 0. 0. 0. 0. 0. 0.\n",
      " 0. 0. 0. 0. 0. 0. 0. 0. 0. 0. 0. 0. 0. 0. 0. 0. 0. 0. 0. 0. 1. 0. 0. 0.\n",
      " 0. 0. 0. 0.]\n",
      "[100]\n"
     ]
    },
    {
     "data": {
      "text/plain": [
       "{3: {'obs': array([  0.,   0.,   0.,   0.,   0.,   0.,   0.,   0.,   0.,   0.,   0.,\n",
       "           0.,   0.,   0.,   0.,   0.,   1.,   0.,   0.,   0.,   0.,   0.,\n",
       "           0.,   0.,   0.,   0.,   0.,   0.,   0.,   0.,   0.,   0.,   0.,\n",
       "           0.,   0.,   0.,   0.,   0.,   0.,   0.,   0.,   0.,   0.,   0.,\n",
       "           1.,   0.,   0.,   0.,   0.,   0.,   0.,   0., 100.]),\n",
       "  'state': array([0., 0., 0., 0., 0., 0., 0., 0., 0., 0., 0., 0., 0., 0., 0., 0., 0.,\n",
       "         0., 0., 0., 0., 0., 0., 0., 0., 0., 0., 0., 0., 0., 0., 0., 0., 0.,\n",
       "         0., 0., 0., 0., 0., 0., 0., 0., 0., 0., 0., 0., 0., 0., 0., 0., 0.,\n",
       "         0.])}}"
      ]
     },
     "execution_count": 3,
     "metadata": {},
     "output_type": "execute_result"
    }
   ],
   "source": [
    "test.reset()"
   ]
  },
  {
   "cell_type": "code",
   "execution_count": 9,
   "metadata": {},
   "outputs": [
    {
     "name": "stdout",
     "output_type": "stream",
     "text": [
      "{3: 1}\n",
      "[0. 0. 0. 0. 0. 0. 0. 0. 0. 0. 0. 0. 0. 0. 0. 0. 0. 0. 0. 0. 0. 0. 0. 0.\n",
      " 0. 0. 0. 0. 0. 0. 0. 0. 0. 1. 0. 0. 1. 0. 0. 0. 0. 0. 0. 0. 0. 0. 0. 0.\n",
      " 0. 0. 0. 0.]\n",
      "[98]\n",
      "{4: 1}\n",
      "[0. 0. 0. 0. 1. 0. 0. 0. 0. 0. 0. 0. 0. 0. 0. 0. 0. 0. 0. 0. 0. 1. 0. 0.\n",
      " 0. 0. 0. 0. 0. 0. 0. 0. 0. 0. 0. 0. 0. 0. 0. 0. 0. 0. 0. 0. 0. 0. 0. 0.\n",
      " 0. 0. 0. 0.]\n",
      "[99]\n"
     ]
    },
    {
     "data": {
      "text/plain": [
       "({5: {'obs': array([ 0.,  0.,  0.,  0.,  1.,  0.,  0.,  0.,  0.,  0.,  0.,  0.,  0.,\n",
       "           0.,  0.,  0.,  0.,  0.,  0.,  0.,  0.,  1.,  0.,  0.,  0.,  0.,\n",
       "           0.,  0.,  0.,  0.,  0.,  0.,  0.,  0.,  0.,  0.,  0.,  0.,  0.,\n",
       "           0.,  0.,  0.,  0.,  0.,  0.,  0.,  0.,  0.,  0.,  0.,  0.,  0.,\n",
       "          99.]),\n",
       "   'state': array([0., 0., 0., 0., 0., 1., 0., 0., 0., 0., 0., 0., 1., 0., 0., 0., 0.,\n",
       "          0., 0., 0., 0., 0., 1., 0., 0., 1., 0., 0., 0., 0., 0., 0., 0., 0.,\n",
       "          0., 0., 0., 0., 0., 0., 0., 0., 0., 0., 0., 0., 0., 0., 0., 0., 0.,\n",
       "          0.])}},\n",
       " -1,\n",
       " True,\n",
       " {})"
      ]
     },
     "execution_count": 9,
     "metadata": {},
     "output_type": "execute_result"
    }
   ],
   "source": [
    "test.step({3:1})\n",
    "test.step({4:1})\n"
   ]
  },
  {
   "cell_type": "code",
   "execution_count": null,
   "metadata": {},
   "outputs": [
    {
     "ename": "KeyboardInterrupt",
     "evalue": "",
     "output_type": "error",
     "traceback": [
      "\u001b[1;31m---------------------------------------------------------------------------\u001b[0m",
      "\u001b[1;31mKeyboardInterrupt\u001b[0m                         Traceback (most recent call last)",
      "Cell \u001b[1;32mIn [5], line 8\u001b[0m\n\u001b[0;32m      6\u001b[0m     done \u001b[38;5;241m=\u001b[39m \u001b[38;5;28;01mFalse\u001b[39;00m\n\u001b[0;32m      7\u001b[0m     \u001b[38;5;28;01mwhile\u001b[39;00m done \u001b[38;5;241m==\u001b[39m \u001b[38;5;28;01mFalse\u001b[39;00m:\n\u001b[1;32m----> 8\u001b[0m         state, reward, done, info \u001b[38;5;241m=\u001b[39m \u001b[43mtest\u001b[49m\u001b[38;5;241;43m.\u001b[39;49m\u001b[43mstep\u001b[49m\u001b[43m(\u001b[49m\u001b[38;5;241;43m1\u001b[39;49m\u001b[43m)\u001b[49m\n\u001b[0;32m     10\u001b[0m \u001b[38;5;28;01mfor\u001b[39;00m a \u001b[38;5;129;01min\u001b[39;00m test\u001b[38;5;241m.\u001b[39mall_agents:\n\u001b[0;32m     11\u001b[0m     \u001b[38;5;28mprint\u001b[39m(a\u001b[38;5;241m.\u001b[39mchips)\n",
      "File \u001b[1;32mc:\\Users\\Adam\\RL_Poker_Env\\Notebooks\\..\\poker_env.py:78\u001b[0m, in \u001b[0;36mPokerEnv.step\u001b[1;34m(self, action)\u001b[0m\n\u001b[0;32m     76\u001b[0m \u001b[39mdef\u001b[39;00m \u001b[39mstep\u001b[39m(\u001b[39mself\u001b[39m, action):\n\u001b[0;32m     77\u001b[0m     \u001b[39mself\u001b[39m\u001b[39m.\u001b[39magent_step(\u001b[39mself\u001b[39m\u001b[39m.\u001b[39mtraining_agent, action)\n\u001b[1;32m---> 78\u001b[0m     \u001b[39mreturn\u001b[39;00m \u001b[39mself\u001b[39;49m\u001b[39m.\u001b[39;49msimulate_until_next_turn()\n",
      "File \u001b[1;32mc:\\Users\\Adam\\RL_Poker_Env\\Notebooks\\..\\poker_env.py:139\u001b[0m, in \u001b[0;36mPokerEnv.simulate_until_next_turn\u001b[1;34m(self)\u001b[0m\n\u001b[0;32m    136\u001b[0m         \u001b[39mif\u001b[39;00m \u001b[39mself\u001b[39m\u001b[39m.\u001b[39mis_betting_round_over():\n\u001b[0;32m    137\u001b[0m             \u001b[39mself\u001b[39m\u001b[39m.\u001b[39mprogress_game_step()\n\u001b[1;32m--> 139\u001b[0m \u001b[39mreturn\u001b[39;00m \u001b[39mself\u001b[39;49m\u001b[39m.\u001b[39;49mget_obs(\u001b[39mself\u001b[39;49m\u001b[39m.\u001b[39;49mtraining_agent), \u001b[39mself\u001b[39m\u001b[39m.\u001b[39mtraining_agent\u001b[39m.\u001b[39mreward, \u001b[39mself\u001b[39m\u001b[39m.\u001b[39mtraining_agent\u001b[39m.\u001b[39mdone, \u001b[39mself\u001b[39m\u001b[39m.\u001b[39mget_info() \u001b[39mif\u001b[39;00m \u001b[39mself\u001b[39m\u001b[39m.\u001b[39minfo \u001b[39melse\u001b[39;00m {}\n",
      "File \u001b[1;32mc:\\Users\\Adam\\RL_Poker_Env\\Notebooks\\..\\poker_env.py:38\u001b[0m, in \u001b[0;36mPokerEnv.get_obs\u001b[1;34m(self, agent)\u001b[0m\n\u001b[0;32m     36\u001b[0m \u001b[39mdef\u001b[39;00m \u001b[39mget_obs\u001b[39m(\u001b[39mself\u001b[39m, agent):\n\u001b[0;32m     37\u001b[0m     community_cards_state \u001b[39m=\u001b[39m np\u001b[39m.\u001b[39msum(\u001b[39mself\u001b[39m\u001b[39m.\u001b[39mcommunity_cards, axis\u001b[39m=\u001b[39m\u001b[39m0\u001b[39m)\n\u001b[1;32m---> 38\u001b[0m     \u001b[39mreturn\u001b[39;00m np\u001b[39m.\u001b[39;49mconcatenate((community_cards_state, agent\u001b[39m.\u001b[39;49mhand\u001b[39m.\u001b[39;49msum(axis\u001b[39m=\u001b[39;49m\u001b[39m0\u001b[39;49m), np\u001b[39m.\u001b[39;49marray([agent\u001b[39m.\u001b[39;49mchips])))\n",
      "File \u001b[1;32m<__array_function__ internals>:180\u001b[0m, in \u001b[0;36mconcatenate\u001b[1;34m(*args, **kwargs)\u001b[0m\n",
      "\u001b[1;31mKeyboardInterrupt\u001b[0m: "
     ]
    }
   ],
   "source": [
    "agent = BaseAgent(0)\n",
    "agents = [BaseAgent(i) for i in range(1,6)]\n",
    "test = PokerEnv(agent, agents)\n",
    "for i in range(1):\n",
    "    test.reset()\n",
    "    done = False\n",
    "    while done == False:\n",
    "        state, reward, done, info = test.step(1)\n",
    "\n",
    "for a in test.all_agents:\n",
    "    print(a.chips)\n",
    "print(test.pot_size)"
   ]
  },
  {
   "cell_type": "code",
   "execution_count": null,
   "metadata": {},
   "outputs": [
    {
     "data": {
      "text/plain": [
       "array([[0., 0., 0., 0., 0., 0., 0., 0., 0., 0., 0., 0., 0., 0., 0., 0.,\n",
       "        0., 1., 0., 0., 0., 0., 0., 0., 0., 0., 0., 0., 0., 0., 0., 0.,\n",
       "        0., 0., 0., 0., 0., 0., 0., 0., 0., 0., 0., 0., 0., 0., 0., 0.,\n",
       "        0., 0., 0., 0.],\n",
       "       [0., 0., 0., 0., 0., 0., 0., 0., 0., 0., 0., 1., 0., 0., 0., 0.,\n",
       "        0., 0., 0., 0., 0., 0., 0., 0., 0., 0., 0., 0., 0., 0., 0., 0.,\n",
       "        0., 0., 0., 0., 0., 0., 0., 0., 0., 0., 0., 0., 0., 0., 0., 0.,\n",
       "        0., 0., 0., 0.],\n",
       "       [0., 0., 0., 0., 0., 0., 0., 0., 0., 0., 0., 0., 0., 0., 0., 0.,\n",
       "        0., 0., 0., 0., 0., 0., 0., 0., 0., 0., 0., 0., 0., 0., 0., 0.,\n",
       "        0., 0., 0., 0., 0., 0., 0., 0., 0., 0., 0., 0., 0., 0., 0., 0.,\n",
       "        1., 0., 0., 0.],\n",
       "       [0., 0., 0., 0., 0., 0., 0., 0., 0., 0., 0., 0., 0., 0., 0., 0.,\n",
       "        0., 0., 1., 0., 0., 0., 0., 0., 0., 0., 0., 0., 0., 0., 0., 0.,\n",
       "        0., 0., 0., 0., 0., 0., 0., 0., 0., 0., 0., 0., 0., 0., 0., 0.,\n",
       "        0., 0., 0., 0.],\n",
       "       [0., 0., 0., 0., 0., 0., 0., 0., 0., 0., 0., 0., 0., 0., 0., 0.,\n",
       "        0., 0., 0., 0., 0., 0., 0., 0., 0., 0., 0., 0., 0., 0., 0., 0.,\n",
       "        0., 0., 0., 1., 0., 0., 0., 0., 0., 0., 0., 0., 0., 0., 0., 0.,\n",
       "        0., 0., 0., 0.]])"
      ]
     },
     "execution_count": 5,
     "metadata": {},
     "output_type": "execute_result"
    }
   ],
   "source": [
    "test.community_cards"
   ]
  },
  {
   "cell_type": "code",
   "execution_count": null,
   "metadata": {},
   "outputs": [
    {
     "name": "stderr",
     "output_type": "stream",
     "text": [
      "/Users/adamprice/Applications/anaconda3/envs/stocktake/lib/python3.8/site-packages/ipykernel/ipkernel.py:287: DeprecationWarning: `should_run_async` will not call `transform_cell` automatically in the future. Please pass the result to `transformed_cell` argument and any exception that happen during thetransform in `preprocessing_exc_tuple` in IPython 7.17 and above.\n",
      "  and should_run_async(code)\n"
     ]
    },
    {
     "name": "stdout",
     "output_type": "stream",
     "text": [
      "Collecting ray[rllib]\n",
      "  Downloading ray-2.0.1-cp38-cp38-macosx_10_15_x86_64.whl (73.8 MB)\n",
      "\u001b[K     |████████████████████████████████| 73.8 MB 7.0 MB/s eta 0:00:01     |███████▊                        | 17.8 MB 7.0 MB/s eta 0:00:09\n",
      "\u001b[?25hCollecting msgpack<2.0.0,>=1.0.0\n",
      "  Downloading msgpack-1.0.4-cp38-cp38-macosx_10_9_x86_64.whl (73 kB)\n",
      "\u001b[K     |████████████████████████████████| 73 kB 4.0 MB/s eta 0:00:01\n",
      "\u001b[?25hRequirement already satisfied: requests in /Users/adamprice/Applications/anaconda3/envs/stocktake/lib/python3.8/site-packages (from ray[rllib]) (2.26.0)\n",
      "Requirement already satisfied: numpy>=1.16 in /Users/adamprice/Applications/anaconda3/envs/stocktake/lib/python3.8/site-packages (from ray[rllib]) (1.19.5)\n",
      "Collecting click<=8.0.4,>=7.0\n",
      "  Downloading click-8.0.4-py3-none-any.whl (97 kB)\n",
      "\u001b[K     |████████████████████████████████| 97 kB 5.8 MB/s eta 0:00:01\n",
      "\u001b[?25hCollecting virtualenv\n",
      "  Downloading virtualenv-20.16.6-py3-none-any.whl (8.8 MB)\n",
      "\u001b[K     |████████████████████████████████| 8.8 MB 6.0 MB/s eta 0:00:01\n",
      "\u001b[?25hRequirement already satisfied: pyyaml in /Users/adamprice/Applications/anaconda3/envs/stocktake/lib/python3.8/site-packages (from ray[rllib]) (5.4.1)\n",
      "Requirement already satisfied: jsonschema in /Users/adamprice/Applications/anaconda3/envs/stocktake/lib/python3.8/site-packages (from ray[rllib]) (3.2.0)\n",
      "Requirement already satisfied: grpcio<=1.43.0,>=1.32.0 in /Users/adamprice/Applications/anaconda3/envs/stocktake/lib/python3.8/site-packages (from ray[rllib]) (1.34.1)\n",
      "Collecting aiosignal\n",
      "  Downloading aiosignal-1.2.0-py3-none-any.whl (8.2 kB)\n",
      "Collecting frozenlist\n",
      "  Downloading frozenlist-1.3.1-cp38-cp38-macosx_10_9_x86_64.whl (36 kB)\n",
      "Collecting filelock\n",
      "  Downloading filelock-3.8.0-py3-none-any.whl (10 kB)\n",
      "Requirement already satisfied: protobuf<4.0.0,>=3.15.3 in /Users/adamprice/Applications/anaconda3/envs/stocktake/lib/python3.8/site-packages (from ray[rllib]) (3.17.3)\n",
      "Requirement already satisfied: attrs in /Users/adamprice/Applications/anaconda3/envs/stocktake/lib/python3.8/site-packages (from ray[rllib]) (21.2.0)\n",
      "Requirement already satisfied: scipy in /Users/adamprice/Applications/anaconda3/envs/stocktake/lib/python3.8/site-packages (from ray[rllib]) (1.7.0)\n",
      "Requirement already satisfied: gym<0.24.0,>=0.21.0 in /Users/adamprice/Applications/anaconda3/envs/stocktake/lib/python3.8/site-packages (from ray[rllib]) (0.23.1)\n",
      "Collecting dm-tree\n",
      "  Downloading dm_tree-0.1.7-cp38-cp38-macosx_10_9_x86_64.whl (109 kB)\n",
      "\u001b[K     |████████████████████████████████| 109 kB 5.4 MB/s eta 0:00:01\n",
      "\u001b[?25hCollecting lz4\n",
      "  Downloading lz4-4.0.2-cp38-cp38-macosx_10_9_x86_64.whl (90 kB)\n",
      "\u001b[K     |████████████████████████████████| 90 kB 6.2 MB/s eta 0:00:01\n",
      "\u001b[?25hCollecting scikit-image\n",
      "  Downloading scikit_image-0.19.3-cp38-cp38-macosx_10_13_x86_64.whl (13.2 MB)\n",
      "\u001b[K     |████████████████████████████████| 13.2 MB 6.1 MB/s eta 0:00:01\n",
      "\u001b[?25hCollecting tabulate\n",
      "  Downloading tabulate-0.9.0-py3-none-any.whl (35 kB)\n",
      "Collecting tensorboardX>=1.9\n",
      "  Downloading tensorboardX-2.5.1-py2.py3-none-any.whl (125 kB)\n",
      "\u001b[K     |████████████████████████████████| 125 kB 6.2 MB/s eta 0:00:01\n",
      "\u001b[?25hRequirement already satisfied: matplotlib!=3.4.3 in /Users/adamprice/Applications/anaconda3/envs/stocktake/lib/python3.8/site-packages (from ray[rllib]) (3.4.2)\n",
      "Requirement already satisfied: pandas in /Users/adamprice/Applications/anaconda3/envs/stocktake/lib/python3.8/site-packages (from ray[rllib]) (1.3.2)\n",
      "Requirement already satisfied: six>=1.5.2 in /Users/adamprice/Applications/anaconda3/envs/stocktake/lib/python3.8/site-packages (from grpcio<=1.43.0,>=1.32.0->ray[rllib]) (1.15.0)\n",
      "Requirement already satisfied: importlib-metadata>=4.10.0 in /Users/adamprice/Applications/anaconda3/envs/stocktake/lib/python3.8/site-packages (from gym<0.24.0,>=0.21.0->ray[rllib]) (4.11.4)\n",
      "Requirement already satisfied: gym-notices>=0.0.4 in /Users/adamprice/Applications/anaconda3/envs/stocktake/lib/python3.8/site-packages (from gym<0.24.0,>=0.21.0->ray[rllib]) (0.0.6)\n",
      "Requirement already satisfied: cloudpickle>=1.2.0 in /Users/adamprice/Applications/anaconda3/envs/stocktake/lib/python3.8/site-packages (from gym<0.24.0,>=0.21.0->ray[rllib]) (1.6.0)\n",
      "Requirement already satisfied: zipp>=0.5 in /Users/adamprice/Applications/anaconda3/envs/stocktake/lib/python3.8/site-packages (from importlib-metadata>=4.10.0->gym<0.24.0,>=0.21.0->ray[rllib]) (3.5.0)\n",
      "Requirement already satisfied: python-dateutil>=2.7 in /Users/adamprice/Applications/anaconda3/envs/stocktake/lib/python3.8/site-packages (from matplotlib!=3.4.3->ray[rllib]) (2.8.1)\n",
      "Requirement already satisfied: pillow>=6.2.0 in /Users/adamprice/Applications/anaconda3/envs/stocktake/lib/python3.8/site-packages (from matplotlib!=3.4.3->ray[rllib]) (8.2.0)\n",
      "Requirement already satisfied: kiwisolver>=1.0.1 in /Users/adamprice/Applications/anaconda3/envs/stocktake/lib/python3.8/site-packages (from matplotlib!=3.4.3->ray[rllib]) (1.3.1)\n",
      "Requirement already satisfied: cycler>=0.10 in /Users/adamprice/Applications/anaconda3/envs/stocktake/lib/python3.8/site-packages (from matplotlib!=3.4.3->ray[rllib]) (0.10.0)\n",
      "Requirement already satisfied: pyparsing>=2.2.1 in /Users/adamprice/Applications/anaconda3/envs/stocktake/lib/python3.8/site-packages (from matplotlib!=3.4.3->ray[rllib]) (2.4.7)\n",
      "Requirement already satisfied: pyrsistent>=0.14.0 in /Users/adamprice/Applications/anaconda3/envs/stocktake/lib/python3.8/site-packages (from jsonschema->ray[rllib]) (0.18.0)\n",
      "Requirement already satisfied: setuptools in /Users/adamprice/Applications/anaconda3/envs/stocktake/lib/python3.8/site-packages (from jsonschema->ray[rllib]) (52.0.0.post20210125)\n",
      "Requirement already satisfied: pytz>=2017.3 in /Users/adamprice/Applications/anaconda3/envs/stocktake/lib/python3.8/site-packages (from pandas->ray[rllib]) (2021.1)\n",
      "Requirement already satisfied: urllib3<1.27,>=1.21.1 in /Users/adamprice/Applications/anaconda3/envs/stocktake/lib/python3.8/site-packages (from requests->ray[rllib]) (1.26.6)\n",
      "Requirement already satisfied: charset-normalizer~=2.0.0 in /Users/adamprice/Applications/anaconda3/envs/stocktake/lib/python3.8/site-packages (from requests->ray[rllib]) (2.0.3)\n",
      "Requirement already satisfied: idna<4,>=2.5 in /Users/adamprice/Applications/anaconda3/envs/stocktake/lib/python3.8/site-packages (from requests->ray[rllib]) (3.2)\n",
      "Requirement already satisfied: certifi>=2017.4.17 in /Users/adamprice/Applications/anaconda3/envs/stocktake/lib/python3.8/site-packages (from requests->ray[rllib]) (2021.5.30)\n",
      "Collecting imageio>=2.4.1\n",
      "  Downloading imageio-2.22.2-py3-none-any.whl (3.4 MB)\n",
      "\u001b[K     |████████████████████████████████| 3.4 MB 6.1 MB/s eta 0:00:01\n",
      "\u001b[?25hRequirement already satisfied: packaging>=20.0 in /Users/adamprice/Applications/anaconda3/envs/stocktake/lib/python3.8/site-packages (from scikit-image->ray[rllib]) (21.0)\n",
      "Collecting tifffile>=2019.7.26\n",
      "  Downloading tifffile-2022.10.10-py3-none-any.whl (210 kB)\n",
      "\u001b[K     |████████████████████████████████| 210 kB 6.0 MB/s eta 0:00:01\n",
      "\u001b[?25hCollecting networkx>=2.2\n",
      "  Downloading networkx-2.8.7-py3-none-any.whl (2.0 MB)\n",
      "\u001b[K     |████████████████████████████████| 2.0 MB 5.9 MB/s eta 0:00:01\n",
      "\u001b[?25hCollecting PyWavelets>=1.1.1\n",
      "  Downloading PyWavelets-1.4.1-cp38-cp38-macosx_10_13_x86_64.whl (4.3 MB)\n",
      "\u001b[K     |████████████████████████████████| 4.3 MB 6.6 MB/s eta 0:00:01\n",
      "\u001b[?25hCollecting pillow>=6.2.0\n",
      "  Downloading Pillow-9.3.0-cp38-cp38-macosx_10_10_x86_64.whl (3.3 MB)\n",
      "\u001b[K     |████████████████████████████████| 3.3 MB 6.0 MB/s eta 0:00:01\n",
      "\u001b[?25hCollecting platformdirs<3,>=2.4\n",
      "  Downloading platformdirs-2.5.2-py3-none-any.whl (14 kB)\n",
      "Collecting distlib<1,>=0.3.6\n",
      "  Downloading distlib-0.3.6-py2.py3-none-any.whl (468 kB)\n",
      "\u001b[K     |████████████████████████████████| 468 kB 6.4 MB/s eta 0:00:01\n",
      "\u001b[?25hInstalling collected packages: platformdirs, pillow, frozenlist, filelock, distlib, virtualenv, tifffile, PyWavelets, networkx, msgpack, imageio, click, aiosignal, tensorboardX, tabulate, scikit-image, ray, lz4, dm-tree\n",
      "  Attempting uninstall: pillow\n",
      "    Found existing installation: Pillow 8.2.0\n",
      "    Uninstalling Pillow-8.2.0:\n",
      "      Successfully uninstalled Pillow-8.2.0\n",
      "Successfully installed PyWavelets-1.4.1 aiosignal-1.2.0 click-8.0.4 distlib-0.3.6 dm-tree-0.1.7 filelock-3.8.0 frozenlist-1.3.1 imageio-2.22.2 lz4-4.0.2 msgpack-1.0.4 networkx-2.8.7 pillow-9.3.0 platformdirs-2.5.2 ray-2.0.1 scikit-image-0.19.3 tabulate-0.9.0 tensorboardX-2.5.1 tifffile-2022.10.10 virtualenv-20.16.6\n"
     ]
    }
   ],
   "source": [
    "!pip install \"ray[rllib]\""
   ]
  }
 ],
 "metadata": {
  "kernelspec": {
   "display_name": "Python 3.8.10 ('stocktake')",
   "language": "python",
   "name": "python3"
  },
  "language_info": {
   "codemirror_mode": {
    "name": "ipython",
    "version": 3
   },
   "file_extension": ".py",
   "mimetype": "text/x-python",
   "name": "python",
   "nbconvert_exporter": "python",
   "pygments_lexer": "ipython3",
   "version": "3.8.10"
  },
  "orig_nbformat": 4,
  "vscode": {
   "interpreter": {
    "hash": "03af9a79c2dca760cc1a7eb3ed3e88bcac6dcfea843cc60b832e817055251c13"
   }
  }
 },
 "nbformat": 4,
 "nbformat_minor": 2
}
