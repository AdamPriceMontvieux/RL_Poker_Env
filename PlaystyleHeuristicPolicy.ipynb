{
 "cells": [
  {
   "cell_type": "code",
   "execution_count": null,
   "metadata": {},
   "outputs": [],
   "source": [
    "import gym\n",
    "import numpy as np\n",
    "import random\n",
    "from ray.rllib.policy.policy import Policy\n",
    "from gym import spaces\n",
    "import mpu"
   ]
  },
  {
   "cell_type": "code",
   "execution_count": null,
   "metadata": {},
   "outputs": [],
   "source": [
    "class PlaystyleHeuristicPolicy(Policy):\n",
    "\n",
    "    def __init__(self, Playstyle, *args, **kwargs):\n",
    "        super().__init__(*args, **kwargs)\n",
    "        self.Playstyle = Playstyle\n",
    "        self.HandScores = mpu.io.read('Heurisitc_Val_Tables/hand_value_table_norm_int8_24_100.pickle')\n",
    "        # could make a self round history of actions\n",
    "\n",
    "    def get_initial_state(self):\n",
    "        return self.Playstyle  # check the uses of this func \n",
    "\n",
    "    def compute_actions(\n",
    "        self,\n",
    "        obs_batch,\n",
    "        state_batches=None,\n",
    "        prev_action_batch=None,\n",
    "        prev_reward_batch=None,\n",
    "        info_batch=None,\n",
    "        episodes=None,\n",
    "        **kwargs\n",
    "    ):\n",
    "        obs = obs_batch[0][0:24] + obs_batch[0][24:]            # observes its own hands out of the possible 24 against the other 22??\n",
    "        obs = np.array(np.where(obs==1)[0], dtype=np.int8)      # Formating the cards into array of type int\n",
    "        value = self.HandScores[obs.tobytes()]                  # Uses lookup table to map the hand values to the hands in your possession\n",
    "        # rand = np.random.random()                               # Send An action that is based in randomness to maintain heuristic nature\n",
    "\n",
    "        if self.Playstyle == 0:  # Aggressive\n",
    "            # if the value of card is > X the raise in the preflop.\n",
    "            # When is a Preflop state\n",
    "            # what is output of 'value' and what is a good set threshold\n",
    "            # needs to monitor its own preflop betting rounds history to calculate a PFR score. % Hands raised vs played\n",
    "            if value > X:\n",
    "                return [2], [], {} # Raise\n",
    "            elif value > Y:\n",
    "                return [1], [], {} #Call\n",
    "            else:\n",
    "                return [0], [], {} #Fold\n",
    "        else: # Passive\n",
    "            # Large gap between VPIP (Voluntarily Put in Pot) and PRF (Pre Flop Raise)\n",
    "            # take calculated PFR from last step\n",
    "            # VPIP needs to know:\n",
    "                # History of Rounds because:\n",
    "                    # Hands played\n",
    "                    # % of those hands where you voluntarily put a chip into the pot in the pre flop. i.e. anything other than a forced blind input.\n",
    "                        # Action taken per historic round\n",
    "            # if VPIP - PRF\n",
    "            if value > X:\n",
    "                return [2], [], {} # Raise\n",
    "            elif value > Y:\n",
    "                return [1], [], {} #Call\n",
    "            else:\n",
    "                return [0], [], {} #Fold\n",
    "\n",
    "    def get_weights(self):\n",
    "        return None\n",
    "\n",
    "    def set_weights(self, weights):\n",
    "        return None"
   ]
  }
 ],
 "metadata": {
  "kernelspec": {
   "display_name": "Python 3.10.4 64-bit",
   "language": "python",
   "name": "python3"
  },
  "language_info": {
   "name": "python",
   "version": "3.10.4"
  },
  "orig_nbformat": 4,
  "vscode": {
   "interpreter": {
    "hash": "31f2aee4e71d21fbe5cf8b01ff0e069b9275f58929596ceb00d14d90e3e16cd6"
   }
  }
 },
 "nbformat": 4,
 "nbformat_minor": 2
}
