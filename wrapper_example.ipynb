{
 "cells": [
  {
   "cell_type": "code",
   "execution_count": 1,
   "metadata": {},
   "outputs": [
    {
     "name": "stderr",
     "output_type": "stream",
     "text": [
      "/Users/adamprice/Applications/anaconda3/envs/stocktake/lib/python3.8/site-packages/keras_preprocessing/image/utils.py:23: DeprecationWarning: NEAREST is deprecated and will be removed in Pillow 10 (2023-07-01). Use Resampling.NEAREST or Dither.NONE instead.\n",
      "  'nearest': pil_image.NEAREST,\n",
      "/Users/adamprice/Applications/anaconda3/envs/stocktake/lib/python3.8/site-packages/keras_preprocessing/image/utils.py:24: DeprecationWarning: BILINEAR is deprecated and will be removed in Pillow 10 (2023-07-01). Use Resampling.BILINEAR instead.\n",
      "  'bilinear': pil_image.BILINEAR,\n",
      "/Users/adamprice/Applications/anaconda3/envs/stocktake/lib/python3.8/site-packages/keras_preprocessing/image/utils.py:25: DeprecationWarning: BICUBIC is deprecated and will be removed in Pillow 10 (2023-07-01). Use Resampling.BICUBIC instead.\n",
      "  'bicubic': pil_image.BICUBIC,\n",
      "/Users/adamprice/Applications/anaconda3/envs/stocktake/lib/python3.8/site-packages/keras_preprocessing/image/utils.py:28: DeprecationWarning: HAMMING is deprecated and will be removed in Pillow 10 (2023-07-01). Use Resampling.HAMMING instead.\n",
      "  if hasattr(pil_image, 'HAMMING'):\n",
      "/Users/adamprice/Applications/anaconda3/envs/stocktake/lib/python3.8/site-packages/keras_preprocessing/image/utils.py:30: DeprecationWarning: BOX is deprecated and will be removed in Pillow 10 (2023-07-01). Use Resampling.BOX instead.\n",
      "  if hasattr(pil_image, 'BOX'):\n",
      "/Users/adamprice/Applications/anaconda3/envs/stocktake/lib/python3.8/site-packages/keras_preprocessing/image/utils.py:33: DeprecationWarning: LANCZOS is deprecated and will be removed in Pillow 10 (2023-07-01). Use Resampling.LANCZOS instead.\n",
      "  if hasattr(pil_image, 'LANCZOS'):\n",
      "/Users/adamprice/Desktop/Poker/poker_env.py:10: DeprecationWarning: Using or importing the ABCs from 'collections' instead of from 'collections.abc' is deprecated since Python 3.3, and in 3.10 it will stop working\n",
      "  from collections import Iterable\n"
     ]
    }
   ],
   "source": [
    "import sys\n",
    "from poker_env import PokerEnv\n",
    "from agents.random_policy import RandomActions\n",
    "from agents.heuristic_policy import HeuristicPolicy\n",
    "from ray.rllib.algorithms.ppo import PPOConfig\n",
    "from ray.rllib.algorithms.ppo import (\n",
    "    PPOConfig,\n",
    "    PPOTF1Policy,\n",
    "    PPOTF2Policy,\n",
    "    PPOTorchPolicy,\n",
    ")\n",
    "from gym import spaces\n",
    "import mpu\n",
    "import numpy as np\n",
    "import ray\n",
    "from ray.rllib.models import MODEL_DEFAULTS\n",
    "from ray.rllib.policy.policy import PolicySpec\n",
    "from ray.tune.registry import register_env"
   ]
  },
  {
   "cell_type": "code",
   "execution_count": 2,
   "metadata": {},
   "outputs": [
    {
     "name": "stderr",
     "output_type": "stream",
     "text": [
      "/Users/adamprice/Applications/anaconda3/envs/stocktake/lib/python3.8/site-packages/ipykernel/ipkernel.py:287: DeprecationWarning: `should_run_async` will not call `transform_cell` automatically in the future. Please pass the result to `transformed_cell` argument and any exception that happen during thetransform in `preprocessing_exc_tuple` in IPython 7.17 and above.\n",
      "  and should_run_async(code)\n"
     ]
    }
   ],
   "source": [
    "from typing import Dict, Optional\n",
    "\n",
    "class wrapped_poker_env(PokerEnv):\n",
    "    def __init__(self, select_policy, config: Optional[Dict] = None):\n",
    "        super().__init__(select_policy, config)\n",
    "    \n",
    "    def set_empty_obs(self):\n",
    "        for a in self.players_ids:\n",
    "            if 'Heuristic' in self.select_policy(self.agents[a].ID, 0):\n",
    "                self.agents[a].empty_obs = {\"hand\": np.zeros(24), \"community\": np.zeros(24)}\n",
    "            elif 'SimpleHand' in self.select_policy(self.agents[a].ID, 0):\n",
    "                self.agents[a].empty_obs = {\"obs\": np.zeros(3+16+4),'state': np.zeros(1)}\n",
    "            else:\n",
    "                self.agents[a].empty_obs ={'obs': np.zeros(24+24+16+4), 'state': np.zeros(1)} \n",
    "\n",
    "    def get_obs(self, agent):\n",
    "        community_cards_state = np.sum(self.community_cards, axis=0)\n",
    "        if 'Heuristic' in self.select_policy(self.agents[agent].ID, 0):\n",
    "            return {\"hand\": self.agents[agent].get_hand(), \"community\": community_cards_state} \n",
    "        elif 'SimpleHand' in self.select_policy(self.agents[agent].ID, 0):\n",
    "            obs = np.array(self.score_hand(self.agents[agent].hand))\n",
    "            obs = np.concatenate([obs, self.all_bets.reshape(-1)])\n",
    "            obs = np.concatenate([obs, np.array([self.agents[a].chips for a in self.players_ids])])\n",
    "            return {\"obs\": obs, \"state\": np.array([0])}\n",
    "        \n",
    "        obs = self.agents[agent].get_hand()\n",
    "        obs = np.concatenate([obs, community_cards_state])\n",
    "        obs = np.concatenate([obs, self.all_bets.reshape(-1)])\n",
    "        obs = np.concatenate([obs, np.array([self.agents[a].chips for a in self.players_ids])])\n",
    "        return {\"obs\": obs, \"state\": np.array([0])}\n",
    "\n",
    "\n"
   ]
  },
  {
   "cell_type": "code",
   "execution_count": 3,
   "metadata": {},
   "outputs": [],
   "source": [
    "def select_policy(agent_id, episode, **kwargs):\n",
    "    if agent_id == 0:\n",
    "        return \"learned\"\n",
    "    elif agent_id == 1:\n",
    "        return \"SimpleHand\"\n",
    "    elif agent_id == 2:\n",
    "        return \"Heuristic_10\"\n",
    "    elif agent_id == 3:\n",
    "        return \"Heuristic_100\"\n",
    "    return \"Heuristic_1000\"\n",
    "\n",
    "def env_creator(config):\n",
    "    env = wrapped_poker_env(select_policy, config)\n",
    "    return env\n",
    "\n",
    "register_env(\"poker\", lambda config: env_creator(config))"
   ]
  },
  {
   "cell_type": "code",
   "execution_count": 4,
   "metadata": {},
   "outputs": [
    {
     "name": "stderr",
     "output_type": "stream",
     "text": [
      "/Users/adamprice/Applications/anaconda3/envs/stocktake/lib/python3.8/site-packages/ray/_private/ray_option_utils.py:266: DeprecationWarning: Setting 'object_store_memory' for actors is deprecated since it doesn't actually reserve the required object store memory. Use object spilling that's enabled by default (https://docs.ray.io/en/releases-2.0.1/ray-core/objects/object-spilling.html) instead to bypass the object store memory size limitation.\n",
      "  warnings.warn(\n",
      "2022-11-08 17:21:02,575\tINFO worker.py:1518 -- Started a local Ray instance.\n",
      "\u001b[2m\u001b[36m(pid=79313)\u001b[0m /Users/adamprice/Applications/anaconda3/envs/stocktake/lib/python3.8/site-packages/tensorflow/python/autograph/impl/api.py:22: DeprecationWarning: the imp module is deprecated in favour of importlib; see the module's documentation for alternative uses\n",
      "\u001b[2m\u001b[36m(pid=79313)\u001b[0m   import imp\n",
      "\u001b[2m\u001b[36m(pid=79315)\u001b[0m /Users/adamprice/Applications/anaconda3/envs/stocktake/lib/python3.8/site-packages/tensorflow/python/autograph/impl/api.py:22: DeprecationWarning: the imp module is deprecated in favour of importlib; see the module's documentation for alternative uses\n",
      "\u001b[2m\u001b[36m(pid=79315)\u001b[0m   import imp\n",
      "\u001b[2m\u001b[36m(pid=79312)\u001b[0m /Users/adamprice/Applications/anaconda3/envs/stocktake/lib/python3.8/site-packages/tensorflow/python/autograph/impl/api.py:22: DeprecationWarning: the imp module is deprecated in favour of importlib; see the module's documentation for alternative uses\n",
      "\u001b[2m\u001b[36m(pid=79312)\u001b[0m   import imp\n",
      "\u001b[2m\u001b[36m(pid=79314)\u001b[0m /Users/adamprice/Applications/anaconda3/envs/stocktake/lib/python3.8/site-packages/tensorflow/python/autograph/impl/api.py:22: DeprecationWarning: the imp module is deprecated in favour of importlib; see the module's documentation for alternative uses\n",
      "\u001b[2m\u001b[36m(pid=79314)\u001b[0m   import imp\n",
      "\u001b[2m\u001b[36m(pid=79313)\u001b[0m /Users/adamprice/Applications/anaconda3/envs/stocktake/lib/python3.8/site-packages/keras_preprocessing/image/utils.py:23: DeprecationWarning: NEAREST is deprecated and will be removed in Pillow 10 (2023-07-01). Use Resampling.NEAREST or Dither.NONE instead.\n",
      "\u001b[2m\u001b[36m(pid=79313)\u001b[0m   'nearest': pil_image.NEAREST,\n",
      "\u001b[2m\u001b[36m(pid=79313)\u001b[0m /Users/adamprice/Applications/anaconda3/envs/stocktake/lib/python3.8/site-packages/keras_preprocessing/image/utils.py:24: DeprecationWarning: BILINEAR is deprecated and will be removed in Pillow 10 (2023-07-01). Use Resampling.BILINEAR instead.\n",
      "\u001b[2m\u001b[36m(pid=79313)\u001b[0m   'bilinear': pil_image.BILINEAR,\n",
      "\u001b[2m\u001b[36m(pid=79313)\u001b[0m /Users/adamprice/Applications/anaconda3/envs/stocktake/lib/python3.8/site-packages/keras_preprocessing/image/utils.py:25: DeprecationWarning: BICUBIC is deprecated and will be removed in Pillow 10 (2023-07-01). Use Resampling.BICUBIC instead.\n",
      "\u001b[2m\u001b[36m(pid=79313)\u001b[0m   'bicubic': pil_image.BICUBIC,\n",
      "\u001b[2m\u001b[36m(pid=79313)\u001b[0m /Users/adamprice/Applications/anaconda3/envs/stocktake/lib/python3.8/site-packages/keras_preprocessing/image/utils.py:28: DeprecationWarning: HAMMING is deprecated and will be removed in Pillow 10 (2023-07-01). Use Resampling.HAMMING instead.\n",
      "\u001b[2m\u001b[36m(pid=79313)\u001b[0m   if hasattr(pil_image, 'HAMMING'):\n",
      "\u001b[2m\u001b[36m(pid=79313)\u001b[0m /Users/adamprice/Applications/anaconda3/envs/stocktake/lib/python3.8/site-packages/keras_preprocessing/image/utils.py:30: DeprecationWarning: BOX is deprecated and will be removed in Pillow 10 (2023-07-01). Use Resampling.BOX instead.\n",
      "\u001b[2m\u001b[36m(pid=79313)\u001b[0m   if hasattr(pil_image, 'BOX'):\n",
      "\u001b[2m\u001b[36m(pid=79313)\u001b[0m /Users/adamprice/Applications/anaconda3/envs/stocktake/lib/python3.8/site-packages/keras_preprocessing/image/utils.py:33: DeprecationWarning: LANCZOS is deprecated and will be removed in Pillow 10 (2023-07-01). Use Resampling.LANCZOS instead.\n",
      "\u001b[2m\u001b[36m(pid=79313)\u001b[0m   if hasattr(pil_image, 'LANCZOS'):\n",
      "\u001b[2m\u001b[36m(pid=79315)\u001b[0m /Users/adamprice/Applications/anaconda3/envs/stocktake/lib/python3.8/site-packages/keras_preprocessing/image/utils.py:23: DeprecationWarning: NEAREST is deprecated and will be removed in Pillow 10 (2023-07-01). Use Resampling.NEAREST or Dither.NONE instead.\n",
      "\u001b[2m\u001b[36m(pid=79315)\u001b[0m   'nearest': pil_image.NEAREST,\n",
      "\u001b[2m\u001b[36m(pid=79315)\u001b[0m /Users/adamprice/Applications/anaconda3/envs/stocktake/lib/python3.8/site-packages/keras_preprocessing/image/utils.py:24: DeprecationWarning: BILINEAR is deprecated and will be removed in Pillow 10 (2023-07-01). Use Resampling.BILINEAR instead.\n",
      "\u001b[2m\u001b[36m(pid=79315)\u001b[0m   'bilinear': pil_image.BILINEAR,\n",
      "\u001b[2m\u001b[36m(pid=79315)\u001b[0m /Users/adamprice/Applications/anaconda3/envs/stocktake/lib/python3.8/site-packages/keras_preprocessing/image/utils.py:25: DeprecationWarning: BICUBIC is deprecated and will be removed in Pillow 10 (2023-07-01). Use Resampling.BICUBIC instead.\n",
      "\u001b[2m\u001b[36m(pid=79315)\u001b[0m   'bicubic': pil_image.BICUBIC,\n",
      "\u001b[2m\u001b[36m(pid=79315)\u001b[0m /Users/adamprice/Applications/anaconda3/envs/stocktake/lib/python3.8/site-packages/keras_preprocessing/image/utils.py:28: DeprecationWarning: HAMMING is deprecated and will be removed in Pillow 10 (2023-07-01). Use Resampling.HAMMING instead.\n",
      "\u001b[2m\u001b[36m(pid=79315)\u001b[0m   if hasattr(pil_image, 'HAMMING'):\n",
      "\u001b[2m\u001b[36m(pid=79315)\u001b[0m /Users/adamprice/Applications/anaconda3/envs/stocktake/lib/python3.8/site-packages/keras_preprocessing/image/utils.py:30: DeprecationWarning: BOX is deprecated and will be removed in Pillow 10 (2023-07-01). Use Resampling.BOX instead.\n",
      "\u001b[2m\u001b[36m(pid=79315)\u001b[0m   if hasattr(pil_image, 'BOX'):\n",
      "\u001b[2m\u001b[36m(pid=79315)\u001b[0m /Users/adamprice/Applications/anaconda3/envs/stocktake/lib/python3.8/site-packages/keras_preprocessing/image/utils.py:33: DeprecationWarning: LANCZOS is deprecated and will be removed in Pillow 10 (2023-07-01). Use Resampling.LANCZOS instead.\n",
      "\u001b[2m\u001b[36m(pid=79315)\u001b[0m   if hasattr(pil_image, 'LANCZOS'):\n",
      "\u001b[2m\u001b[36m(pid=79312)\u001b[0m /Users/adamprice/Applications/anaconda3/envs/stocktake/lib/python3.8/site-packages/keras_preprocessing/image/utils.py:23: DeprecationWarning: NEAREST is deprecated and will be removed in Pillow 10 (2023-07-01). Use Resampling.NEAREST or Dither.NONE instead.\n",
      "\u001b[2m\u001b[36m(pid=79312)\u001b[0m   'nearest': pil_image.NEAREST,\n",
      "\u001b[2m\u001b[36m(pid=79312)\u001b[0m /Users/adamprice/Applications/anaconda3/envs/stocktake/lib/python3.8/site-packages/keras_preprocessing/image/utils.py:24: DeprecationWarning: BILINEAR is deprecated and will be removed in Pillow 10 (2023-07-01). Use Resampling.BILINEAR instead.\n",
      "\u001b[2m\u001b[36m(pid=79312)\u001b[0m   'bilinear': pil_image.BILINEAR,\n",
      "\u001b[2m\u001b[36m(pid=79312)\u001b[0m /Users/adamprice/Applications/anaconda3/envs/stocktake/lib/python3.8/site-packages/keras_preprocessing/image/utils.py:25: DeprecationWarning: BICUBIC is deprecated and will be removed in Pillow 10 (2023-07-01). Use Resampling.BICUBIC instead.\n",
      "\u001b[2m\u001b[36m(pid=79312)\u001b[0m   'bicubic': pil_image.BICUBIC,\n",
      "\u001b[2m\u001b[36m(pid=79312)\u001b[0m /Users/adamprice/Applications/anaconda3/envs/stocktake/lib/python3.8/site-packages/keras_preprocessing/image/utils.py:28: DeprecationWarning: HAMMING is deprecated and will be removed in Pillow 10 (2023-07-01). Use Resampling.HAMMING instead.\n",
      "\u001b[2m\u001b[36m(pid=79312)\u001b[0m   if hasattr(pil_image, 'HAMMING'):\n",
      "\u001b[2m\u001b[36m(pid=79312)\u001b[0m /Users/adamprice/Applications/anaconda3/envs/stocktake/lib/python3.8/site-packages/keras_preprocessing/image/utils.py:30: DeprecationWarning: BOX is deprecated and will be removed in Pillow 10 (2023-07-01). Use Resampling.BOX instead.\n",
      "\u001b[2m\u001b[36m(pid=79312)\u001b[0m   if hasattr(pil_image, 'BOX'):\n",
      "\u001b[2m\u001b[36m(pid=79312)\u001b[0m /Users/adamprice/Applications/anaconda3/envs/stocktake/lib/python3.8/site-packages/keras_preprocessing/image/utils.py:33: DeprecationWarning: LANCZOS is deprecated and will be removed in Pillow 10 (2023-07-01). Use Resampling.LANCZOS instead.\n",
      "\u001b[2m\u001b[36m(pid=79312)\u001b[0m   if hasattr(pil_image, 'LANCZOS'):\n",
      "\u001b[2m\u001b[36m(pid=79314)\u001b[0m /Users/adamprice/Applications/anaconda3/envs/stocktake/lib/python3.8/site-packages/keras_preprocessing/image/utils.py:23: DeprecationWarning: NEAREST is deprecated and will be removed in Pillow 10 (2023-07-01). Use Resampling.NEAREST or Dither.NONE instead.\n",
      "\u001b[2m\u001b[36m(pid=79314)\u001b[0m   'nearest': pil_image.NEAREST,\n",
      "\u001b[2m\u001b[36m(pid=79314)\u001b[0m /Users/adamprice/Applications/anaconda3/envs/stocktake/lib/python3.8/site-packages/keras_preprocessing/image/utils.py:24: DeprecationWarning: BILINEAR is deprecated and will be removed in Pillow 10 (2023-07-01). Use Resampling.BILINEAR instead.\n",
      "\u001b[2m\u001b[36m(pid=79314)\u001b[0m   'bilinear': pil_image.BILINEAR,\n",
      "\u001b[2m\u001b[36m(pid=79314)\u001b[0m /Users/adamprice/Applications/anaconda3/envs/stocktake/lib/python3.8/site-packages/keras_preprocessing/image/utils.py:25: DeprecationWarning: BICUBIC is deprecated and will be removed in Pillow 10 (2023-07-01). Use Resampling.BICUBIC instead.\n",
      "\u001b[2m\u001b[36m(pid=79314)\u001b[0m   'bicubic': pil_image.BICUBIC,\n",
      "\u001b[2m\u001b[36m(pid=79314)\u001b[0m /Users/adamprice/Applications/anaconda3/envs/stocktake/lib/python3.8/site-packages/keras_preprocessing/image/utils.py:28: DeprecationWarning: HAMMING is deprecated and will be removed in Pillow 10 (2023-07-01). Use Resampling.HAMMING instead.\n",
      "\u001b[2m\u001b[36m(pid=79314)\u001b[0m   if hasattr(pil_image, 'HAMMING'):\n",
      "\u001b[2m\u001b[36m(pid=79314)\u001b[0m /Users/adamprice/Applications/anaconda3/envs/stocktake/lib/python3.8/site-packages/keras_preprocessing/image/utils.py:30: DeprecationWarning: BOX is deprecated and will be removed in Pillow 10 (2023-07-01). Use Resampling.BOX instead.\n",
      "\u001b[2m\u001b[36m(pid=79314)\u001b[0m   if hasattr(pil_image, 'BOX'):\n",
      "\u001b[2m\u001b[36m(pid=79314)\u001b[0m /Users/adamprice/Applications/anaconda3/envs/stocktake/lib/python3.8/site-packages/keras_preprocessing/image/utils.py:33: DeprecationWarning: LANCZOS is deprecated and will be removed in Pillow 10 (2023-07-01). Use Resampling.LANCZOS instead.\n",
      "\u001b[2m\u001b[36m(pid=79314)\u001b[0m   if hasattr(pil_image, 'LANCZOS'):\n",
      "\u001b[2m\u001b[36m(RolloutWorker pid=79313)\u001b[0m /Users/adamprice/Desktop/Poker/poker_env.py:10: DeprecationWarning: Using or importing the ABCs from 'collections' instead of from 'collections.abc' is deprecated since Python 3.3, and in 3.10 it will stop working\n",
      "\u001b[2m\u001b[36m(RolloutWorker pid=79313)\u001b[0m   from collections import Iterable\n",
      "\u001b[2m\u001b[36m(RolloutWorker pid=79315)\u001b[0m /Users/adamprice/Desktop/Poker/poker_env.py:10: DeprecationWarning: Using or importing the ABCs from 'collections' instead of from 'collections.abc' is deprecated since Python 3.3, and in 3.10 it will stop working\n",
      "\u001b[2m\u001b[36m(RolloutWorker pid=79315)\u001b[0m   from collections import Iterable\n",
      "\u001b[2m\u001b[36m(RolloutWorker pid=79312)\u001b[0m /Users/adamprice/Desktop/Poker/poker_env.py:10: DeprecationWarning: Using or importing the ABCs from 'collections' instead of from 'collections.abc' is deprecated since Python 3.3, and in 3.10 it will stop working\n",
      "\u001b[2m\u001b[36m(RolloutWorker pid=79312)\u001b[0m   from collections import Iterable\n",
      "\u001b[2m\u001b[36m(RolloutWorker pid=79314)\u001b[0m /Users/adamprice/Desktop/Poker/poker_env.py:10: DeprecationWarning: Using or importing the ABCs from 'collections' instead of from 'collections.abc' is deprecated since Python 3.3, and in 3.10 it will stop working\n",
      "\u001b[2m\u001b[36m(RolloutWorker pid=79314)\u001b[0m   from collections import Iterable\n",
      "2022-11-08 17:21:12,302\tINFO trainable.py:162 -- Trainable.setup took 12.057 seconds. If your trainable is slow to initialize, consider setting reuse_actors=True to reduce actor creation overheads.\n",
      "2022-11-08 17:21:12,304\tWARNING util.py:66 -- Install gputil for GPU system monitoring.\n"
     ]
    }
   ],
   "source": [
    "heuristic_observation_space = spaces.Dict({\n",
    "            \"hand\": spaces.Box(0, 1, shape=(24, )),\n",
    "            \"community\": spaces.Box(0, 1, shape=(24, ))\n",
    "        })\n",
    "\n",
    "simple_hand_observation_space = spaces.Dict({\n",
    "            \"obs\": spaces.Box(0, 400, shape=(3+16+4, )),\n",
    "            \"state\": spaces.Box(0, 1, shape=(1, ))\n",
    "        })\n",
    "action_space = spaces.Discrete(3)\n",
    "\n",
    "model = MODEL_DEFAULTS.update({'fcnet_hiddens': [512, 512], 'fcnet_activation': 'relu'})\n",
    "\n",
    "config = (\n",
    "    PPOConfig()\n",
    "    .rollouts(num_rollout_workers=4, num_envs_per_worker=1)\\\n",
    "    .training(train_batch_size=4000, gamma=0.99, model=model, lr=0.0004)\\\n",
    "    .environment(disable_env_checking=True)\\\n",
    "    .multi_agent(\n",
    "        policies={\n",
    "            \"random\": PolicySpec(policy_class=RandomActions),\n",
    "            \"Heuristic_10\": (HeuristicPolicy, heuristic_observation_space, action_space, {'difficulty': 0}),\n",
    "            \"Heuristic_100\": (HeuristicPolicy, heuristic_observation_space, action_space, {'difficulty': 1}),\n",
    "            \"SimpleHand\": (PPOTorchPolicy, simple_hand_observation_space, action_space, {}),\n",
    "            \"learned\": PolicySpec(\n",
    "                config={}\n",
    "            ),\n",
    "        },\n",
    "        policy_mapping_fn=select_policy,\n",
    "        policies_to_train=['learned', 'SimpleHand'],\n",
    "    )\\\n",
    "    .resources(num_gpus=0)\\\n",
    "    .framework('torch')\n",
    ")\n",
    "trainer = config.build(env=\"poker\")\n"
   ]
  },
  {
   "cell_type": "code",
   "execution_count": 5,
   "metadata": {},
   "outputs": [],
   "source": [
    "#!tensorboard --logdir=~/ray_results --host 0.0.0.0"
   ]
  },
  {
   "cell_type": "code",
   "execution_count": 6,
   "metadata": {},
   "outputs": [
    {
     "name": "stderr",
     "output_type": "stream",
     "text": [
      "2022-11-08 17:21:14,366\tWARNING deprecation.py:47 -- DeprecationWarning: `_get_slice_indices` has been deprecated. This will raise an error in the future!\n"
     ]
    }
   ],
   "source": [
    "for i in range(1000):\n",
    "    trainer.train()"
   ]
  },
  {
   "cell_type": "code",
   "execution_count": null,
   "metadata": {},
   "outputs": [],
   "source": [
    "trainer.save(\"checkpoint/ppo_poker\")"
   ]
  },
  {
   "cell_type": "code",
   "execution_count": null,
   "metadata": {},
   "outputs": [],
   "source": []
  }
 ],
 "metadata": {
  "kernelspec": {
   "display_name": "Python 3.8.10 ('stocktake')",
   "language": "python",
   "name": "python3"
  },
  "language_info": {
   "codemirror_mode": {
    "name": "ipython",
    "version": 3
   },
   "file_extension": ".py",
   "mimetype": "text/x-python",
   "name": "python",
   "nbconvert_exporter": "python",
   "pygments_lexer": "ipython3",
   "version": "3.8.10"
  },
  "orig_nbformat": 4,
  "vscode": {
   "interpreter": {
    "hash": "03af9a79c2dca760cc1a7eb3ed3e88bcac6dcfea843cc60b832e817055251c13"
   }
  }
 },
 "nbformat": 4,
 "nbformat_minor": 2
}
