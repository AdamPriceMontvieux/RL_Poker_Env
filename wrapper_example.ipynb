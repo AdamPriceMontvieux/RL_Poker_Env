{
 "cells": [
  {
   "cell_type": "markdown",
   "metadata": {},
   "source": [
    "*Wrapper example*"
   ]
  },
  {
   "cell_type": "code",
   "execution_count": null,
   "metadata": {},
   "outputs": [],
   "source": [
    "import sys\n",
    "from poker_env import PokerEnv\n",
    "from agents.random_policy import RandomActions\n",
    "from agents.heuristic_policy import HeuristicPolicy\n",
    "from ray.rllib.algorithms.ppo import PPOConfig\n",
    "from ray.rllib.algorithms.ppo import (\n",
    "    PPOConfig,\n",
    "    PPOTF1Policy,\n",
    "    PPOTF2Policy,\n",
    "    PPOTorchPolicy,\n",
    ")\n",
    "from gym import spaces\n",
    "import mpu\n",
    "import numpy as np\n",
    "import ray\n",
    "from ray.rllib.models import MODEL_DEFAULTS\n",
    "from ray.rllib.policy.policy import PolicySpec\n",
    "from ray.tune.registry import register_env"
   ]
  },
  {
   "cell_type": "markdown",
   "metadata": {},
   "source": [
    "If you want to modify the observation vectors provided by the environment, there are a couple of hoops you have to jump through."
   ]
  },
  {
   "cell_type": "code",
   "execution_count": null,
   "metadata": {},
   "outputs": [],
   "source": [
    "from typing import Dict, Optional\n",
    "\n",
    "#The following 3 functions need to be overwritten\n",
    "class wrapped_poker_env(PokerEnv):\n",
    "    def __init__(self, select_policy, config: Optional[Dict] = None):\n",
    "        super().__init__(select_policy, config)\n",
    "    \n",
    "    #Required to work around RLlib bug.\n",
    "    #This needs to the same shape as the observation vector the policy uses. \n",
    "    def set_empty_obs(self):\n",
    "        for a in self.players_ids:\n",
    "            if 'Heuristic' in self.select_policy(self.agents[a].ID, 0):\n",
    "                self.agents[a].empty_obs = {\"hand\": np.zeros(24), \"community\": np.zeros(24)}\n",
    "            #Here we have definded a new observation vector, it is the value of the agents \n",
    "            #hand and community cards.\n",
    "            elif 'SimpleHand' in self.select_policy(self.agents[a].ID, 0):\n",
    "                self.agents[a].empty_obs = {\"obs\": np.zeros(3+16+4),'state': np.zeros(1)}\n",
    "            else:\n",
    "                self.agents[a].empty_obs ={'obs': np.zeros(24+24+16+4), 'state': np.zeros(1)} \n",
    "\n",
    "    #The obs of each policy needs to be handled here.\n",
    "    def get_obs(self, agent):\n",
    "        community_cards_state = np.sum(self.community_cards, axis=0)\n",
    "        if 'Heuristic' in self.select_policy(self.agents[agent].ID, 0):\n",
    "            return {\"hand\": self.agents[agent].get_hand(), \"community\": community_cards_state} \n",
    "        elif 'SimpleHand' in self.select_policy(self.agents[agent].ID, 0):\n",
    "            obs = np.array(self.score_hand(self.agents[agent].hand))\n",
    "            obs = np.concatenate([obs, self.all_bets.reshape(-1)])\n",
    "            obs = np.concatenate([obs, np.array([self.agents[a].chips for a in self.players_ids])])\n",
    "            return {\"obs\": obs, \"state\": np.array([0])}\n",
    "        \n",
    "        #The default observation\n",
    "        obs = self.agents[agent].get_hand()\n",
    "        obs = np.concatenate([obs, community_cards_state])\n",
    "        obs = np.concatenate([obs, self.all_bets.reshape(-1)])\n",
    "        obs = np.concatenate([obs, np.array([self.agents[a].chips for a in self.players_ids])])\n",
    "        return {\"obs\": obs, \"state\": np.array([0])}"
   ]
  },
  {
   "cell_type": "markdown",
   "metadata": {},
   "source": [
    "Set up training with this different observation space"
   ]
  },
  {
   "cell_type": "code",
   "execution_count": null,
   "metadata": {},
   "outputs": [],
   "source": [
    "def select_policy(agent_id, episode, **kwargs):\n",
    "    if agent_id == 0:\n",
    "        return \"learned\"\n",
    "    elif agent_id == 1:\n",
    "        return \"SimpleHand\"\n",
    "    elif agent_id == 2:\n",
    "        return \"Heuristic_10\"\n",
    "    elif agent_id == 3:\n",
    "        return \"Heuristic_100\"\n",
    "    return \"Heuristic_1000\"\n",
    "\n",
    "def env_creator(config):\n",
    "    env = wrapped_poker_env(select_policy, config)\n",
    "    return env\n",
    "\n",
    "register_env(\"poker\", lambda config: env_creator(config))"
   ]
  },
  {
   "cell_type": "code",
   "execution_count": null,
   "metadata": {},
   "outputs": [],
   "source": [
    "heuristic_observation_space = spaces.Dict({\n",
    "            \"hand\": spaces.Box(0, 1, shape=(24, )),\n",
    "            \"community\": spaces.Box(0, 1, shape=(24, ))\n",
    "        })\n",
    "\n",
    "simple_hand_observation_space = spaces.Dict({\n",
    "            \"obs\": spaces.Box(0, 400, shape=(3+16+4, )),\n",
    "            \"state\": spaces.Box(0, 1, shape=(1, ))\n",
    "        })\n",
    "action_space = spaces.Discrete(3)\n",
    "\n",
    "model = MODEL_DEFAULTS.update({'fcnet_hiddens': [512, 512], 'fcnet_activation': 'relu'})\n",
    "\n",
    "config = (\n",
    "    PPOConfig()\n",
    "    .rollouts(num_rollout_workers=4, num_envs_per_worker=1)\\\n",
    "    .training(train_batch_size=4000, gamma=0.99, model=model, lr=0.0004)\\\n",
    "    .environment(disable_env_checking=True)\\\n",
    "    .multi_agent(\n",
    "        policies={\n",
    "            \"random\": PolicySpec(policy_class=RandomActions),\n",
    "            \"Heuristic_10\": (HeuristicPolicy, heuristic_observation_space, action_space, {'difficulty': 0}),\n",
    "            \"Heuristic_100\": (HeuristicPolicy, heuristic_observation_space, action_space, {'difficulty': 1}),\n",
    "            \"SimpleHand\": (PPOTorchPolicy, simple_hand_observation_space, action_space, {}),\n",
    "            \"learned\": PolicySpec(\n",
    "                config={}\n",
    "            ),\n",
    "        },\n",
    "        policy_mapping_fn=select_policy,\n",
    "        #Notice how this will train both the normal obs and simple obs using ppo\n",
    "        policies_to_train=['learned', 'SimpleHand'],\n",
    "    )\\\n",
    "    .resources(num_gpus=0)\\\n",
    "    .framework('torch')\n",
    ")\n",
    "trainer = config.build(env=\"poker\")\n"
   ]
  },
  {
   "cell_type": "code",
   "execution_count": null,
   "metadata": {},
   "outputs": [],
   "source": [
    "#!tensorboard --logdir=~/ray_results --host 0.0.0.0"
   ]
  },
  {
   "cell_type": "code",
   "execution_count": null,
   "metadata": {},
   "outputs": [],
   "source": [
    "for i in range(1000):\n",
    "    trainer.train()"
   ]
  },
  {
   "cell_type": "code",
   "execution_count": null,
   "metadata": {},
   "outputs": [],
   "source": [
    "trainer.save(\"checkpoint/ppo_poker\")"
   ]
  },
  {
   "cell_type": "code",
   "execution_count": null,
   "metadata": {},
   "outputs": [],
   "source": []
  }
 ],
 "metadata": {
  "kernelspec": {
   "display_name": "Python 3 (ipykernel)",
   "language": "python",
   "name": "python3"
  },
  "language_info": {
   "codemirror_mode": {
    "name": "ipython",
    "version": 3
   },
   "file_extension": ".py",
   "mimetype": "text/x-python",
   "name": "python",
   "nbconvert_exporter": "python",
   "pygments_lexer": "ipython3",
   "version": "3.10.6"
  },
  "vscode": {
   "interpreter": {
    "hash": "03af9a79c2dca760cc1a7eb3ed3e88bcac6dcfea843cc60b832e817055251c13"
   }
  }
 },
 "nbformat": 4,
 "nbformat_minor": 2
}
